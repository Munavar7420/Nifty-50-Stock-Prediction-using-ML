{
 "cells": [
  {
   "cell_type": "code",
   "execution_count": 2,
   "id": "6ce7e36d",
   "metadata": {},
   "outputs": [
    {
     "name": "stdout",
     "output_type": "stream",
     "text": [
      "Defaulting to user installation because normal site-packages is not writeable\n",
      "Requirement already satisfied: keras in c:\\users\\munavar\\appdata\\roaming\\python\\python39\\site-packages (2.10.0)\n",
      "Note: you may need to restart the kernel to use updated packages.\n"
     ]
    }
   ],
   "source": [
    "pip install keras"
   ]
  },
  {
   "cell_type": "code",
   "execution_count": 3,
   "id": "a047165e",
   "metadata": {},
   "outputs": [],
   "source": [
    "import keras"
   ]
  },
  {
   "cell_type": "code",
   "execution_count": 4,
   "id": "7be05a49",
   "metadata": {},
   "outputs": [],
   "source": [
    "import datetime\n",
    "import pandas as pd\n",
    "import numpy as np"
   ]
  },
  {
   "cell_type": "code",
   "execution_count": 5,
   "id": "f34f9b5a",
   "metadata": {},
   "outputs": [
    {
     "name": "stdout",
     "output_type": "stream",
     "text": [
      "https://query1.finance.yahoo.com/v7/finance/download/ADANIENT.NS?period1=1541010600&period2=1667327400&interval=1d&events=history\n",
      "1541010600 1667327400\n"
     ]
    }
   ],
   "source": [
    "stockcode = 'ADANIENT'\n",
    "\n",
    "ts1 = str(int(datetime.datetime(2018, 11, 1).timestamp())) \n",
    "ts2 = str(int(datetime.datetime(2022, 11, 2).timestamp()))\n",
    "\n",
    "interval = '1d'\n",
    "# interval = '1wk'\n",
    "#interval = '1mo'\n",
    "\n",
    "events = 'history'\n",
    "\n",
    "url = 'https://query1.finance.yahoo.com/v7/finance/download/'\\\n",
    "      + stockcode + '.NS?period1=' + ts1 + '&period2=' + ts2 + '&interval='\\\n",
    "      + interval + '&events=' + events\n",
    "\n",
    "print(url)\n",
    "print (ts1, ts2)"
   ]
  },
  {
   "cell_type": "code",
   "execution_count": 6,
   "id": "2f429ddf",
   "metadata": {},
   "outputs": [
    {
     "name": "stdout",
     "output_type": "stream",
     "text": [
      "https://query1.finance.yahoo.com/v7/finance/download/ADANIPORTS.NS?period1=1541010600&period2=1667327400&interval=1d&events=history\n",
      "1541010600 1667327400\n"
     ]
    }
   ],
   "source": [
    "stockcode = 'ADANIPORTS'\n",
    "\n",
    "ts1 = str(int(datetime.datetime(2018, 11, 1).timestamp())) \n",
    "ts2 = str(int(datetime.datetime(2022, 11, 2).timestamp()))\n",
    "\n",
    "interval = '1d'\n",
    "# interval = '1wk'\n",
    "#interval = '1mo'\n",
    "\n",
    "events = 'history'\n",
    "\n",
    "url = 'https://query1.finance.yahoo.com/v7/finance/download/'\\\n",
    "      + stockcode + '.NS?period1=' + ts1 + '&period2=' + ts2 + '&interval='\\\n",
    "      + interval + '&events=' + events\n",
    "\n",
    "print(url)\n",
    "print (ts1, ts2)"
   ]
  },
  {
   "cell_type": "code",
   "execution_count": 7,
   "id": "cd1e0232",
   "metadata": {},
   "outputs": [
    {
     "name": "stdout",
     "output_type": "stream",
     "text": [
      "https://query1.finance.yahoo.com/v7/finance/download/APOLLOHOSP.NS?period1=1541010600&period2=1667327400&interval=1d&events=history\n",
      "1541010600 1667327400\n"
     ]
    }
   ],
   "source": [
    "stockcode = 'APOLLOHOSP'\n",
    "\n",
    "ts1 = str(int(datetime.datetime(2018, 11, 1).timestamp())) \n",
    "ts2 = str(int(datetime.datetime(2022, 11, 2).timestamp()))\n",
    "\n",
    "interval = '1d'\n",
    "# interval = '1wk'\n",
    "#interval = '1mo'\n",
    "\n",
    "events = 'history'\n",
    "\n",
    "url = 'https://query1.finance.yahoo.com/v7/finance/download/'\\\n",
    "      + stockcode + '.NS?period1=' + ts1 + '&period2=' + ts2 + '&interval='\\\n",
    "      + interval + '&events=' + events\n",
    "\n",
    "print(url)\n",
    "print (ts1, ts2)"
   ]
  },
  {
   "cell_type": "code",
   "execution_count": 8,
   "id": "a025aaea",
   "metadata": {},
   "outputs": [
    {
     "name": "stdout",
     "output_type": "stream",
     "text": [
      "https://query1.finance.yahoo.com/v7/finance/download/ASIANPAINT.NS?period1=1541010600&period2=1667327400&interval=1d&events=history\n",
      "1541010600 1667327400\n"
     ]
    }
   ],
   "source": [
    "stockcode = 'ASIANPAINT'\n",
    "\n",
    "ts1 = str(int(datetime.datetime(2018, 11, 1).timestamp())) \n",
    "ts2 = str(int(datetime.datetime(2022, 11, 2).timestamp()))\n",
    "\n",
    "interval = '1d'\n",
    "# interval = '1wk'\n",
    "#interval = '1mo'\n",
    "\n",
    "events = 'history'\n",
    "\n",
    "url = 'https://query1.finance.yahoo.com/v7/finance/download/'\\\n",
    "      + stockcode + '.NS?period1=' + ts1 + '&period2=' + ts2 + '&interval='\\\n",
    "      + interval + '&events=' + events\n",
    "\n",
    "print(url)\n",
    "print (ts1, ts2)"
   ]
  },
  {
   "cell_type": "code",
   "execution_count": 9,
   "id": "369a89b6",
   "metadata": {},
   "outputs": [
    {
     "name": "stdout",
     "output_type": "stream",
     "text": [
      "https://query1.finance.yahoo.com/v7/finance/download/AXISBANK.NS?period1=1541010600&period2=1667327400&interval=1d&events=history\n",
      "1541010600 1667327400\n"
     ]
    }
   ],
   "source": [
    "stockcode = 'AXISBANK'\n",
    "\n",
    "ts1 = str(int(datetime.datetime(2018, 11, 1).timestamp())) \n",
    "ts2 = str(int(datetime.datetime(2022, 11, 2).timestamp()))\n",
    "\n",
    "interval = '1d'\n",
    "# interval = '1wk'\n",
    "#interval = '1mo'\n",
    "\n",
    "events = 'history'\n",
    "\n",
    "url = 'https://query1.finance.yahoo.com/v7/finance/download/'\\\n",
    "      + stockcode + '.NS?period1=' + ts1 + '&period2=' + ts2 + '&interval='\\\n",
    "      + interval + '&events=' + events\n",
    "\n",
    "print(url)\n",
    "print (ts1, ts2)"
   ]
  },
  {
   "cell_type": "code",
   "execution_count": 10,
   "id": "bebbf64a",
   "metadata": {},
   "outputs": [
    {
     "name": "stdout",
     "output_type": "stream",
     "text": [
      "https://query1.finance.yahoo.com/v7/finance/download/BAJAJ-AUTO.NS?period1=1541010600&period2=1667327400&interval=1d&events=history\n",
      "1541010600 1667327400\n"
     ]
    }
   ],
   "source": [
    "stockcode = 'BAJAJ-AUTO'\n",
    "\n",
    "ts1 = str(int(datetime.datetime(2018, 11, 1).timestamp())) \n",
    "ts2 = str(int(datetime.datetime(2022, 11, 2).timestamp()))\n",
    "\n",
    "interval = '1d'\n",
    "# interval = '1wk'\n",
    "#interval = '1mo'\n",
    "\n",
    "events = 'history'\n",
    "\n",
    "url = 'https://query1.finance.yahoo.com/v7/finance/download/'\\\n",
    "      + stockcode + '.NS?period1=' + ts1 + '&period2=' + ts2 + '&interval='\\\n",
    "      + interval + '&events=' + events\n",
    "\n",
    "print(url)\n",
    "print (ts1, ts2)"
   ]
  },
  {
   "cell_type": "code",
   "execution_count": 11,
   "id": "14f17760",
   "metadata": {},
   "outputs": [
    {
     "name": "stdout",
     "output_type": "stream",
     "text": [
      "https://query1.finance.yahoo.com/v7/finance/download/BAJFINANCE.NS?period1=1541010600&period2=1667327400&interval=1d&events=history\n",
      "1541010600 1667327400\n"
     ]
    }
   ],
   "source": [
    "stockcode = 'BAJFINANCE'\n",
    "\n",
    "ts1 = str(int(datetime.datetime(2018, 11, 1).timestamp())) \n",
    "ts2 = str(int(datetime.datetime(2022, 11, 2).timestamp()))\n",
    "\n",
    "interval = '1d'\n",
    "# interval = '1wk'\n",
    "#interval = '1mo'\n",
    "\n",
    "events = 'history'\n",
    "\n",
    "url = 'https://query1.finance.yahoo.com/v7/finance/download/'\\\n",
    "      + stockcode + '.NS?period1=' + ts1 + '&period2=' + ts2 + '&interval='\\\n",
    "      + interval + '&events=' + events\n",
    "\n",
    "print(url)\n",
    "print (ts1, ts2)"
   ]
  },
  {
   "cell_type": "code",
   "execution_count": 12,
   "id": "5595f59f",
   "metadata": {},
   "outputs": [
    {
     "name": "stdout",
     "output_type": "stream",
     "text": [
      "https://query1.finance.yahoo.com/v7/finance/download/BAJAJFINSV.NS?period1=1541010600&period2=1667327400&interval=1d&events=history\n",
      "1541010600 1667327400\n"
     ]
    }
   ],
   "source": [
    "stockcode = 'BAJAJFINSV'\n",
    "\n",
    "ts1 = str(int(datetime.datetime(2018, 11, 1).timestamp())) \n",
    "ts2 = str(int(datetime.datetime(2022, 11, 2).timestamp()))\n",
    "\n",
    "interval = '1d'\n",
    "# interval = '1wk'\n",
    "#interval = '1mo'\n",
    "\n",
    "events = 'history'\n",
    "\n",
    "url = 'https://query1.finance.yahoo.com/v7/finance/download/'\\\n",
    "      + stockcode + '.NS?period1=' + ts1 + '&period2=' + ts2 + '&interval='\\\n",
    "      + interval + '&events=' + events\n",
    "\n",
    "print(url)\n",
    "print (ts1, ts2)"
   ]
  },
  {
   "cell_type": "code",
   "execution_count": 13,
   "id": "cbf10c69",
   "metadata": {},
   "outputs": [
    {
     "name": "stdout",
     "output_type": "stream",
     "text": [
      "https://query1.finance.yahoo.com/v7/finance/download/BPCL.NS?period1=1541010600&period2=1667327400&interval=1d&events=history\n",
      "1541010600 1667327400\n"
     ]
    }
   ],
   "source": [
    "stockcode = 'BPCL'\n",
    "\n",
    "ts1 = str(int(datetime.datetime(2018, 11, 1).timestamp())) \n",
    "ts2 = str(int(datetime.datetime(2022, 11, 2).timestamp()))\n",
    "\n",
    "interval = '1d'\n",
    "# interval = '1wk'\n",
    "#interval = '1mo'\n",
    "\n",
    "events = 'history'\n",
    "\n",
    "url = 'https://query1.finance.yahoo.com/v7/finance/download/'\\\n",
    "      + stockcode + '.NS?period1=' + ts1 + '&period2=' + ts2 + '&interval='\\\n",
    "      + interval + '&events=' + events\n",
    "\n",
    "print(url)\n",
    "print (ts1, ts2)"
   ]
  },
  {
   "cell_type": "code",
   "execution_count": 14,
   "id": "1def88bd",
   "metadata": {},
   "outputs": [
    {
     "name": "stdout",
     "output_type": "stream",
     "text": [
      "https://query1.finance.yahoo.com/v7/finance/download/BHARTIARTL.NS?period1=1541010600&period2=1667327400&interval=1d&events=history\n",
      "1541010600 1667327400\n"
     ]
    }
   ],
   "source": [
    "stockcode = 'BHARTIARTL'\n",
    "\n",
    "ts1 = str(int(datetime.datetime(2018, 11, 1).timestamp())) \n",
    "ts2 = str(int(datetime.datetime(2022, 11, 2).timestamp()))\n",
    "\n",
    "interval = '1d'\n",
    "# interval = '1wk'\n",
    "#interval = '1mo'\n",
    "\n",
    "events = 'history'\n",
    "\n",
    "url = 'https://query1.finance.yahoo.com/v7/finance/download/'\\\n",
    "      + stockcode + '.NS?period1=' + ts1 + '&period2=' + ts2 + '&interval='\\\n",
    "      + interval + '&events=' + events\n",
    "\n",
    "print(url)\n",
    "print (ts1, ts2)"
   ]
  },
  {
   "cell_type": "code",
   "execution_count": 15,
   "id": "4042e91e",
   "metadata": {},
   "outputs": [
    {
     "name": "stdout",
     "output_type": "stream",
     "text": [
      "https://query1.finance.yahoo.com/v7/finance/download/BRITANNIA.NS?period1=1541010600&period2=1667327400&interval=1d&events=history\n",
      "1541010600 1667327400\n"
     ]
    }
   ],
   "source": [
    "stockcode = 'BRITANNIA'\n",
    "\n",
    "ts1 = str(int(datetime.datetime(2018, 11, 1).timestamp())) \n",
    "ts2 = str(int(datetime.datetime(2022, 11, 2).timestamp()))\n",
    "\n",
    "interval = '1d'\n",
    "# interval = '1wk'\n",
    "#interval = '1mo'\n",
    "\n",
    "events = 'history'\n",
    "\n",
    "url = 'https://query1.finance.yahoo.com/v7/finance/download/'\\\n",
    "      + stockcode + '.NS?period1=' + ts1 + '&period2=' + ts2 + '&interval='\\\n",
    "      + interval + '&events=' + events\n",
    "\n",
    "print(url)\n",
    "print (ts1, ts2)"
   ]
  },
  {
   "cell_type": "code",
   "execution_count": 16,
   "id": "725b0c0a",
   "metadata": {},
   "outputs": [
    {
     "name": "stdout",
     "output_type": "stream",
     "text": [
      "https://query1.finance.yahoo.com/v7/finance/download/CIPLA.NS?period1=1541010600&period2=1667327400&interval=1d&events=history\n",
      "1541010600 1667327400\n"
     ]
    }
   ],
   "source": [
    "stockcode = 'CIPLA'\n",
    "\n",
    "ts1 = str(int(datetime.datetime(2018, 11, 1).timestamp())) \n",
    "ts2 = str(int(datetime.datetime(2022, 11, 2).timestamp()))\n",
    "\n",
    "interval = '1d'\n",
    "# interval = '1wk'\n",
    "#interval = '1mo'\n",
    "\n",
    "events = 'history'\n",
    "\n",
    "url = 'https://query1.finance.yahoo.com/v7/finance/download/'\\\n",
    "      + stockcode + '.NS?period1=' + ts1 + '&period2=' + ts2 + '&interval='\\\n",
    "      + interval + '&events=' + events\n",
    "\n",
    "print(url)\n",
    "print (ts1, ts2)"
   ]
  },
  {
   "cell_type": "code",
   "execution_count": 17,
   "id": "ea5464b4",
   "metadata": {},
   "outputs": [
    {
     "name": "stdout",
     "output_type": "stream",
     "text": [
      "https://query1.finance.yahoo.com/v7/finance/download/COALINDIA.NS?period1=1541010600&period2=1667327400&interval=1d&events=history\n",
      "1541010600 1667327400\n"
     ]
    }
   ],
   "source": [
    "stockcode = 'COALINDIA'\n",
    "\n",
    "ts1 = str(int(datetime.datetime(2018, 11, 1).timestamp())) \n",
    "ts2 = str(int(datetime.datetime(2022, 11, 2).timestamp()))\n",
    "\n",
    "interval = '1d'\n",
    "# interval = '1wk'\n",
    "#interval = '1mo'\n",
    "\n",
    "events = 'history'\n",
    "\n",
    "url = 'https://query1.finance.yahoo.com/v7/finance/download/'\\\n",
    "      + stockcode + '.NS?period1=' + ts1 + '&period2=' + ts2 + '&interval='\\\n",
    "      + interval + '&events=' + events\n",
    "\n",
    "print(url)\n",
    "print (ts1, ts2)"
   ]
  },
  {
   "cell_type": "code",
   "execution_count": 18,
   "id": "1497461c",
   "metadata": {},
   "outputs": [
    {
     "name": "stdout",
     "output_type": "stream",
     "text": [
      "https://query1.finance.yahoo.com/v7/finance/download/DIVISLAB.NS?period1=1541010600&period2=1667327400&interval=1d&events=history\n",
      "1541010600 1667327400\n"
     ]
    }
   ],
   "source": [
    "stockcode = 'DIVISLAB'\n",
    "\n",
    "ts1 = str(int(datetime.datetime(2018, 11, 1).timestamp())) \n",
    "ts2 = str(int(datetime.datetime(2022, 11, 2).timestamp()))\n",
    "\n",
    "interval = '1d'\n",
    "# interval = '1wk'\n",
    "#interval = '1mo'\n",
    "\n",
    "events = 'history'\n",
    "\n",
    "url = 'https://query1.finance.yahoo.com/v7/finance/download/'\\\n",
    "      + stockcode + '.NS?period1=' + ts1 + '&period2=' + ts2 + '&interval='\\\n",
    "      + interval + '&events=' + events\n",
    "\n",
    "print(url)\n",
    "print (ts1, ts2)"
   ]
  },
  {
   "cell_type": "code",
   "execution_count": 19,
   "id": "e621d508",
   "metadata": {},
   "outputs": [
    {
     "name": "stdout",
     "output_type": "stream",
     "text": [
      "https://query1.finance.yahoo.com/v7/finance/download/DRREDDY.NS?period1=1541010600&period2=1667327400&interval=1d&events=history\n",
      "1541010600 1667327400\n"
     ]
    }
   ],
   "source": [
    "stockcode = 'DRREDDY'\n",
    "\n",
    "ts1 = str(int(datetime.datetime(2018, 11, 1).timestamp())) \n",
    "ts2 = str(int(datetime.datetime(2022, 11, 2).timestamp()))\n",
    "\n",
    "interval = '1d'\n",
    "# interval = '1wk'\n",
    "#interval = '1mo'\n",
    "\n",
    "events = 'history'\n",
    "\n",
    "url = 'https://query1.finance.yahoo.com/v7/finance/download/'\\\n",
    "      + stockcode + '.NS?period1=' + ts1 + '&period2=' + ts2 + '&interval='\\\n",
    "      + interval + '&events=' + events\n",
    "\n",
    "print(url)\n",
    "print (ts1, ts2)"
   ]
  },
  {
   "cell_type": "code",
   "execution_count": 20,
   "id": "e991cf01",
   "metadata": {},
   "outputs": [
    {
     "name": "stdout",
     "output_type": "stream",
     "text": [
      "https://query1.finance.yahoo.com/v7/finance/download/EICHERMOT.NS?period1=1541010600&period2=1667327400&interval=1d&events=history\n",
      "1541010600 1667327400\n"
     ]
    }
   ],
   "source": [
    "stockcode = 'EICHERMOT'\n",
    "\n",
    "ts1 = str(int(datetime.datetime(2018, 11, 1).timestamp())) \n",
    "ts2 = str(int(datetime.datetime(2022, 11, 2).timestamp()))\n",
    "\n",
    "interval = '1d'\n",
    "# interval = '1wk'\n",
    "#interval = '1mo'\n",
    "\n",
    "events = 'history'\n",
    "\n",
    "url = 'https://query1.finance.yahoo.com/v7/finance/download/'\\\n",
    "      + stockcode + '.NS?period1=' + ts1 + '&period2=' + ts2 + '&interval='\\\n",
    "      + interval + '&events=' + events\n",
    "\n",
    "print(url)\n",
    "print (ts1, ts2)"
   ]
  },
  {
   "cell_type": "code",
   "execution_count": 21,
   "id": "73cad115",
   "metadata": {},
   "outputs": [
    {
     "name": "stdout",
     "output_type": "stream",
     "text": [
      "https://query1.finance.yahoo.com/v7/finance/download/GRASIM.NS?period1=1541010600&period2=1667327400&interval=1d&events=history\n",
      "1541010600 1667327400\n"
     ]
    }
   ],
   "source": [
    "stockcode = 'GRASIM'\n",
    "\n",
    "ts1 = str(int(datetime.datetime(2018, 11, 1).timestamp())) \n",
    "ts2 = str(int(datetime.datetime(2022, 11, 2).timestamp()))\n",
    "\n",
    "interval = '1d'\n",
    "# interval = '1wk'\n",
    "#interval = '1mo'\n",
    "\n",
    "events = 'history'\n",
    "\n",
    "url = 'https://query1.finance.yahoo.com/v7/finance/download/'\\\n",
    "      + stockcode + '.NS?period1=' + ts1 + '&period2=' + ts2 + '&interval='\\\n",
    "      + interval + '&events=' + events\n",
    "\n",
    "print(url)\n",
    "print (ts1, ts2)"
   ]
  },
  {
   "cell_type": "code",
   "execution_count": 22,
   "id": "7f5acae9",
   "metadata": {},
   "outputs": [
    {
     "name": "stdout",
     "output_type": "stream",
     "text": [
      "https://query1.finance.yahoo.com/v7/finance/download/HCLTECH.NS?period1=1541010600&period2=1667327400&interval=1d&events=history\n",
      "1541010600 1667327400\n"
     ]
    }
   ],
   "source": [
    "stockcode = 'HCLTECH'\n",
    "\n",
    "ts1 = str(int(datetime.datetime(2018, 11, 1).timestamp())) \n",
    "ts2 = str(int(datetime.datetime(2022, 11, 2).timestamp()))\n",
    "\n",
    "interval = '1d'\n",
    "# interval = '1wk'\n",
    "#interval = '1mo'\n",
    "\n",
    "events = 'history'\n",
    "\n",
    "url = 'https://query1.finance.yahoo.com/v7/finance/download/'\\\n",
    "      + stockcode + '.NS?period1=' + ts1 + '&period2=' + ts2 + '&interval='\\\n",
    "      + interval + '&events=' + events\n",
    "\n",
    "print(url)\n",
    "print (ts1, ts2)"
   ]
  },
  {
   "cell_type": "code",
   "execution_count": 23,
   "id": "1b6f537e",
   "metadata": {},
   "outputs": [
    {
     "name": "stdout",
     "output_type": "stream",
     "text": [
      "https://query1.finance.yahoo.com/v7/finance/download/HDFCBANK.NS?period1=1541010600&period2=1667327400&interval=1d&events=history\n",
      "1541010600 1667327400\n"
     ]
    }
   ],
   "source": [
    "stockcode = 'HDFCBANK'\n",
    "\n",
    "ts1 = str(int(datetime.datetime(2018, 11, 1).timestamp())) \n",
    "ts2 = str(int(datetime.datetime(2022, 11, 2).timestamp()))\n",
    "\n",
    "interval = '1d'\n",
    "# interval = '1wk'\n",
    "#interval = '1mo'\n",
    "\n",
    "events = 'history'\n",
    "\n",
    "url = 'https://query1.finance.yahoo.com/v7/finance/download/'\\\n",
    "      + stockcode + '.NS?period1=' + ts1 + '&period2=' + ts2 + '&interval='\\\n",
    "      + interval + '&events=' + events\n",
    "\n",
    "print(url)\n",
    "print (ts1, ts2)"
   ]
  },
  {
   "cell_type": "code",
   "execution_count": 24,
   "id": "cf28e377",
   "metadata": {},
   "outputs": [
    {
     "name": "stdout",
     "output_type": "stream",
     "text": [
      "https://query1.finance.yahoo.com/v7/finance/download/HDFCLIFE.NS?period1=1541010600&period2=1667327400&interval=1d&events=history\n",
      "1541010600 1667327400\n"
     ]
    }
   ],
   "source": [
    "stockcode = 'HDFCLIFE'\n",
    "\n",
    "ts1 = str(int(datetime.datetime(2018, 11, 1).timestamp())) \n",
    "ts2 = str(int(datetime.datetime(2022, 11, 2).timestamp()))\n",
    "\n",
    "interval = '1d'\n",
    "# interval = '1wk'\n",
    "#interval = '1mo'\n",
    "\n",
    "events = 'history'\n",
    "\n",
    "url = 'https://query1.finance.yahoo.com/v7/finance/download/'\\\n",
    "      + stockcode + '.NS?period1=' + ts1 + '&period2=' + ts2 + '&interval='\\\n",
    "      + interval + '&events=' + events\n",
    "\n",
    "print(url)\n",
    "print (ts1, ts2)"
   ]
  },
  {
   "cell_type": "code",
   "execution_count": 25,
   "id": "6b48cc5b",
   "metadata": {},
   "outputs": [
    {
     "name": "stdout",
     "output_type": "stream",
     "text": [
      "https://query1.finance.yahoo.com/v7/finance/download/HEROMOTOCO.NS?period1=1541010600&period2=1667327400&interval=1d&events=history\n",
      "1541010600 1667327400\n"
     ]
    }
   ],
   "source": [
    "stockcode = 'HEROMOTOCO'\n",
    "\n",
    "ts1 = str(int(datetime.datetime(2018, 11, 1).timestamp())) \n",
    "ts2 = str(int(datetime.datetime(2022, 11, 2).timestamp()))\n",
    "\n",
    "interval = '1d'\n",
    "# interval = '1wk'\n",
    "#interval = '1mo'\n",
    "\n",
    "events = 'history'\n",
    "\n",
    "url = 'https://query1.finance.yahoo.com/v7/finance/download/'\\\n",
    "      + stockcode + '.NS?period1=' + ts1 + '&period2=' + ts2 + '&interval='\\\n",
    "      + interval + '&events=' + events\n",
    "\n",
    "print(url)\n",
    "print (ts1, ts2)"
   ]
  },
  {
   "cell_type": "code",
   "execution_count": 26,
   "id": "03f80b4f",
   "metadata": {},
   "outputs": [
    {
     "name": "stdout",
     "output_type": "stream",
     "text": [
      "https://query1.finance.yahoo.com/v7/finance/download/HINDALCO.NS?period1=1541010600&period2=1667327400&interval=1d&events=history\n",
      "1541010600 1667327400\n"
     ]
    }
   ],
   "source": [
    "stockcode = 'HINDALCO'\n",
    "\n",
    "ts1 = str(int(datetime.datetime(2018, 11, 1).timestamp())) \n",
    "ts2 = str(int(datetime.datetime(2022, 11, 2).timestamp()))\n",
    "\n",
    "interval = '1d'\n",
    "# interval = '1wk'\n",
    "#interval = '1mo'\n",
    "\n",
    "events = 'history'\n",
    "\n",
    "url = 'https://query1.finance.yahoo.com/v7/finance/download/'\\\n",
    "      + stockcode + '.NS?period1=' + ts1 + '&period2=' + ts2 + '&interval='\\\n",
    "      + interval + '&events=' + events\n",
    "\n",
    "print(url)\n",
    "print (ts1, ts2)"
   ]
  },
  {
   "cell_type": "code",
   "execution_count": 27,
   "id": "7ba9adbb",
   "metadata": {},
   "outputs": [
    {
     "name": "stdout",
     "output_type": "stream",
     "text": [
      "https://query1.finance.yahoo.com/v7/finance/download/HINDUNILVR.NS?period1=1541010600&period2=1667327400&interval=1d&events=history\n",
      "1541010600 1667327400\n"
     ]
    }
   ],
   "source": [
    "stockcode = 'HINDUNILVR'\n",
    "\n",
    "ts1 = str(int(datetime.datetime(2018, 11, 1).timestamp())) \n",
    "ts2 = str(int(datetime.datetime(2022, 11, 2).timestamp()))\n",
    "\n",
    "interval = '1d'\n",
    "# interval = '1wk'\n",
    "#interval = '1mo'\n",
    "\n",
    "events = 'history'\n",
    "\n",
    "url = 'https://query1.finance.yahoo.com/v7/finance/download/'\\\n",
    "      + stockcode + '.NS?period1=' + ts1 + '&period2=' + ts2 + '&interval='\\\n",
    "      + interval + '&events=' + events\n",
    "\n",
    "print(url)\n",
    "print (ts1, ts2)"
   ]
  },
  {
   "cell_type": "code",
   "execution_count": 28,
   "id": "bedd0a54",
   "metadata": {},
   "outputs": [
    {
     "name": "stdout",
     "output_type": "stream",
     "text": [
      "https://query1.finance.yahoo.com/v7/finance/download/HDFC.NS?period1=1541010600&period2=1667327400&interval=1d&events=history\n",
      "1541010600 1667327400\n"
     ]
    }
   ],
   "source": [
    "stockcode = 'HDFC'\n",
    "\n",
    "ts1 = str(int(datetime.datetime(2018, 11, 1).timestamp())) \n",
    "ts2 = str(int(datetime.datetime(2022, 11, 2).timestamp()))\n",
    "\n",
    "interval = '1d'\n",
    "# interval = '1wk'\n",
    "#interval = '1mo'\n",
    "\n",
    "events = 'history'\n",
    "\n",
    "url = 'https://query1.finance.yahoo.com/v7/finance/download/'\\\n",
    "      + stockcode + '.NS?period1=' + ts1 + '&period2=' + ts2 + '&interval='\\\n",
    "      + interval + '&events=' + events\n",
    "\n",
    "print(url)\n",
    "print (ts1, ts2)"
   ]
  },
  {
   "cell_type": "code",
   "execution_count": 29,
   "id": "8114702b",
   "metadata": {},
   "outputs": [
    {
     "name": "stdout",
     "output_type": "stream",
     "text": [
      "https://query1.finance.yahoo.com/v7/finance/download/ICICIBANK.NS?period1=1541010600&period2=1667327400&interval=1d&events=history\n",
      "1541010600 1667327400\n"
     ]
    }
   ],
   "source": [
    "stockcode = 'ICICIBANK'\n",
    "\n",
    "ts1 = str(int(datetime.datetime(2018, 11, 1).timestamp())) \n",
    "ts2 = str(int(datetime.datetime(2022, 11, 2).timestamp()))\n",
    "\n",
    "interval = '1d'\n",
    "# interval = '1wk'\n",
    "#interval = '1mo'\n",
    "\n",
    "events = 'history'\n",
    "\n",
    "url = 'https://query1.finance.yahoo.com/v7/finance/download/'\\\n",
    "      + stockcode + '.NS?period1=' + ts1 + '&period2=' + ts2 + '&interval='\\\n",
    "      + interval + '&events=' + events\n",
    "\n",
    "print(url)\n",
    "print (ts1, ts2)"
   ]
  },
  {
   "cell_type": "code",
   "execution_count": 30,
   "id": "16d339d1",
   "metadata": {},
   "outputs": [
    {
     "name": "stdout",
     "output_type": "stream",
     "text": [
      "https://query1.finance.yahoo.com/v7/finance/download/ITC.NS?period1=1541010600&period2=1667327400&interval=1d&events=history\n",
      "1541010600 1667327400\n"
     ]
    }
   ],
   "source": [
    "stockcode = 'ITC'\n",
    "\n",
    "ts1 = str(int(datetime.datetime(2018, 11, 1).timestamp())) \n",
    "ts2 = str(int(datetime.datetime(2022, 11, 2).timestamp()))\n",
    "\n",
    "interval = '1d'\n",
    "# interval = '1wk'\n",
    "#interval = '1mo'\n",
    "\n",
    "events = 'history'\n",
    "\n",
    "url = 'https://query1.finance.yahoo.com/v7/finance/download/'\\\n",
    "      + stockcode + '.NS?period1=' + ts1 + '&period2=' + ts2 + '&interval='\\\n",
    "      + interval + '&events=' + events\n",
    "\n",
    "print(url)\n",
    "print (ts1, ts2)"
   ]
  },
  {
   "cell_type": "code",
   "execution_count": 31,
   "id": "2523876f",
   "metadata": {},
   "outputs": [
    {
     "name": "stdout",
     "output_type": "stream",
     "text": [
      "https://query1.finance.yahoo.com/v7/finance/download/INDUSINDBK.NS?period1=1541010600&period2=1667327400&interval=1d&events=history\n",
      "1541010600 1667327400\n"
     ]
    }
   ],
   "source": [
    "stockcode = 'INDUSINDBK'\n",
    "\n",
    "ts1 = str(int(datetime.datetime(2018, 11, 1).timestamp())) \n",
    "ts2 = str(int(datetime.datetime(2022, 11, 2).timestamp()))\n",
    "\n",
    "interval = '1d'\n",
    "# interval = '1wk'\n",
    "#interval = '1mo'\n",
    "\n",
    "events = 'history'\n",
    "\n",
    "url = 'https://query1.finance.yahoo.com/v7/finance/download/'\\\n",
    "      + stockcode + '.NS?period1=' + ts1 + '&period2=' + ts2 + '&interval='\\\n",
    "      + interval + '&events=' + events\n",
    "\n",
    "print(url)\n",
    "print (ts1, ts2)"
   ]
  },
  {
   "cell_type": "code",
   "execution_count": 32,
   "id": "962a7cc4",
   "metadata": {},
   "outputs": [
    {
     "name": "stdout",
     "output_type": "stream",
     "text": [
      "https://query1.finance.yahoo.com/v7/finance/download/INFY.NS?period1=1541010600&period2=1667327400&interval=1d&events=history\n",
      "1541010600 1667327400\n"
     ]
    }
   ],
   "source": [
    "stockcode = 'INFY'\n",
    "\n",
    "ts1 = str(int(datetime.datetime(2018, 11, 1).timestamp())) \n",
    "ts2 = str(int(datetime.datetime(2022, 11, 2).timestamp()))\n",
    "\n",
    "interval = '1d'\n",
    "# interval = '1wk'\n",
    "#interval = '1mo'\n",
    "\n",
    "events = 'history'\n",
    "\n",
    "url = 'https://query1.finance.yahoo.com/v7/finance/download/'\\\n",
    "      + stockcode + '.NS?period1=' + ts1 + '&period2=' + ts2 + '&interval='\\\n",
    "      + interval + '&events=' + events\n",
    "\n",
    "print(url)\n",
    "print (ts1, ts2)"
   ]
  },
  {
   "cell_type": "code",
   "execution_count": 33,
   "id": "b8626b69",
   "metadata": {},
   "outputs": [
    {
     "name": "stdout",
     "output_type": "stream",
     "text": [
      "https://query1.finance.yahoo.com/v7/finance/download/JSWSTEEL.NS?period1=1541010600&period2=1667327400&interval=1d&events=history\n",
      "1541010600 1667327400\n"
     ]
    }
   ],
   "source": [
    "stockcode = 'JSWSTEEL'\n",
    "\n",
    "ts1 = str(int(datetime.datetime(2018, 11, 1).timestamp())) \n",
    "ts2 = str(int(datetime.datetime(2022, 11, 2).timestamp()))\n",
    "\n",
    "interval = '1d'\n",
    "# interval = '1wk'\n",
    "#interval = '1mo'\n",
    "\n",
    "events = 'history'\n",
    "\n",
    "url = 'https://query1.finance.yahoo.com/v7/finance/download/'\\\n",
    "      + stockcode + '.NS?period1=' + ts1 + '&period2=' + ts2 + '&interval='\\\n",
    "      + interval + '&events=' + events\n",
    "\n",
    "print(url)\n",
    "print (ts1, ts2)"
   ]
  },
  {
   "cell_type": "code",
   "execution_count": 34,
   "id": "e4cde46c",
   "metadata": {},
   "outputs": [
    {
     "name": "stdout",
     "output_type": "stream",
     "text": [
      "https://query1.finance.yahoo.com/v7/finance/download/KOTAKBANK.NS?period1=1541010600&period2=1667327400&interval=1d&events=history\n",
      "1541010600 1667327400\n"
     ]
    }
   ],
   "source": [
    "stockcode = 'KOTAKBANK'\n",
    "\n",
    "ts1 = str(int(datetime.datetime(2018, 11, 1).timestamp())) \n",
    "ts2 = str(int(datetime.datetime(2022, 11, 2).timestamp()))\n",
    "\n",
    "interval = '1d'\n",
    "# interval = '1wk'\n",
    "#interval = '1mo'\n",
    "\n",
    "events = 'history'\n",
    "\n",
    "url = 'https://query1.finance.yahoo.com/v7/finance/download/'\\\n",
    "      + stockcode + '.NS?period1=' + ts1 + '&period2=' + ts2 + '&interval='\\\n",
    "      + interval + '&events=' + events\n",
    "\n",
    "print(url)\n",
    "print (ts1, ts2)"
   ]
  },
  {
   "cell_type": "code",
   "execution_count": 35,
   "id": "65d5faf6",
   "metadata": {},
   "outputs": [
    {
     "name": "stdout",
     "output_type": "stream",
     "text": [
      "https://query1.finance.yahoo.com/v7/finance/download/LT.NS?period1=1541010600&period2=1667327400&interval=1d&events=history\n",
      "1541010600 1667327400\n"
     ]
    }
   ],
   "source": [
    "stockcode = 'LT'\n",
    "\n",
    "ts1 = str(int(datetime.datetime(2018, 11, 1).timestamp())) \n",
    "ts2 = str(int(datetime.datetime(2022, 11, 2).timestamp()))\n",
    "\n",
    "interval = '1d'\n",
    "# interval = '1wk'\n",
    "#interval = '1mo'\n",
    "\n",
    "events = 'history'\n",
    "\n",
    "url = 'https://query1.finance.yahoo.com/v7/finance/download/'\\\n",
    "      + stockcode + '.NS?period1=' + ts1 + '&period2=' + ts2 + '&interval='\\\n",
    "      + interval + '&events=' + events\n",
    "\n",
    "print(url)\n",
    "print (ts1, ts2)"
   ]
  },
  {
   "cell_type": "code",
   "execution_count": 36,
   "id": "7a3865f5",
   "metadata": {},
   "outputs": [
    {
     "name": "stdout",
     "output_type": "stream",
     "text": [
      "https://query1.finance.yahoo.com/v7/finance/download/M&M.NS?period1=1541010600&period2=1667327400&interval=1d&events=history\n",
      "1541010600 1667327400\n"
     ]
    }
   ],
   "source": [
    "stockcode = 'M&M'\n",
    "\n",
    "ts1 = str(int(datetime.datetime(2018, 11, 1).timestamp())) \n",
    "ts2 = str(int(datetime.datetime(2022, 11, 2).timestamp()))\n",
    "\n",
    "interval = '1d'\n",
    "# interval = '1wk'\n",
    "#interval = '1mo'\n",
    "\n",
    "events = 'history'\n",
    "\n",
    "url = 'https://query1.finance.yahoo.com/v7/finance/download/'\\\n",
    "      + stockcode + '.NS?period1=' + ts1 + '&period2=' + ts2 + '&interval='\\\n",
    "      + interval + '&events=' + events\n",
    "\n",
    "print(url)\n",
    "print (ts1, ts2)"
   ]
  },
  {
   "cell_type": "code",
   "execution_count": 37,
   "id": "c6dec9de",
   "metadata": {},
   "outputs": [
    {
     "name": "stdout",
     "output_type": "stream",
     "text": [
      "https://query1.finance.yahoo.com/v7/finance/download/MARUTI.NS?period1=1541010600&period2=1667327400&interval=1d&events=history\n",
      "1541010600 1667327400\n"
     ]
    }
   ],
   "source": [
    "stockcode = 'MARUTI'\n",
    "\n",
    "ts1 = str(int(datetime.datetime(2018, 11, 1).timestamp())) \n",
    "ts2 = str(int(datetime.datetime(2022, 11, 2).timestamp()))\n",
    "\n",
    "interval = '1d'\n",
    "# interval = '1wk'\n",
    "#interval = '1mo'\n",
    "\n",
    "events = 'history'\n",
    "\n",
    "url = 'https://query1.finance.yahoo.com/v7/finance/download/'\\\n",
    "      + stockcode + '.NS?period1=' + ts1 + '&period2=' + ts2 + '&interval='\\\n",
    "      + interval + '&events=' + events\n",
    "\n",
    "print(url)\n",
    "print (ts1, ts2)"
   ]
  },
  {
   "cell_type": "code",
   "execution_count": 38,
   "id": "5d4be8c1",
   "metadata": {},
   "outputs": [
    {
     "name": "stdout",
     "output_type": "stream",
     "text": [
      "https://query1.finance.yahoo.com/v7/finance/download/NTPC.NS?period1=1541010600&period2=1667327400&interval=1d&events=history\n",
      "1541010600 1667327400\n"
     ]
    }
   ],
   "source": [
    "stockcode = 'NTPC'\n",
    "\n",
    "ts1 = str(int(datetime.datetime(2018, 11, 1).timestamp())) \n",
    "ts2 = str(int(datetime.datetime(2022, 11, 2).timestamp()))\n",
    "\n",
    "interval = '1d'\n",
    "# interval = '1wk'\n",
    "#interval = '1mo'\n",
    "\n",
    "events = 'history'\n",
    "\n",
    "url = 'https://query1.finance.yahoo.com/v7/finance/download/'\\\n",
    "      + stockcode + '.NS?period1=' + ts1 + '&period2=' + ts2 + '&interval='\\\n",
    "      + interval + '&events=' + events\n",
    "\n",
    "print(url)\n",
    "print (ts1, ts2)"
   ]
  },
  {
   "cell_type": "code",
   "execution_count": 39,
   "id": "6ce9d3a8",
   "metadata": {},
   "outputs": [
    {
     "name": "stdout",
     "output_type": "stream",
     "text": [
      "https://query1.finance.yahoo.com/v7/finance/download/NESTLEIND.NS?period1=1541010600&period2=1667327400&interval=1d&events=history\n",
      "1541010600 1667327400\n"
     ]
    }
   ],
   "source": [
    "stockcode = 'NESTLEIND'\n",
    "\n",
    "ts1 = str(int(datetime.datetime(2018, 11, 1).timestamp())) \n",
    "ts2 = str(int(datetime.datetime(2022, 11, 2).timestamp()))\n",
    "\n",
    "interval = '1d'\n",
    "# interval = '1wk'\n",
    "#interval = '1mo'\n",
    "\n",
    "events = 'history'\n",
    "\n",
    "url = 'https://query1.finance.yahoo.com/v7/finance/download/'\\\n",
    "      + stockcode + '.NS?period1=' + ts1 + '&period2=' + ts2 + '&interval='\\\n",
    "      + interval + '&events=' + events\n",
    "\n",
    "print(url)\n",
    "print (ts1, ts2)"
   ]
  },
  {
   "cell_type": "code",
   "execution_count": 40,
   "id": "25b53205",
   "metadata": {},
   "outputs": [
    {
     "name": "stdout",
     "output_type": "stream",
     "text": [
      "https://query1.finance.yahoo.com/v7/finance/download/ONGC.NS?period1=1541010600&period2=1667327400&interval=1d&events=history\n",
      "1541010600 1667327400\n"
     ]
    }
   ],
   "source": [
    "stockcode = 'ONGC'\n",
    "\n",
    "ts1 = str(int(datetime.datetime(2018, 11, 1).timestamp())) \n",
    "ts2 = str(int(datetime.datetime(2022, 11, 2).timestamp()))\n",
    "\n",
    "interval = '1d'\n",
    "# interval = '1wk'\n",
    "#interval = '1mo'\n",
    "\n",
    "events = 'history'\n",
    "\n",
    "url = 'https://query1.finance.yahoo.com/v7/finance/download/'\\\n",
    "      + stockcode + '.NS?period1=' + ts1 + '&period2=' + ts2 + '&interval='\\\n",
    "      + interval + '&events=' + events\n",
    "\n",
    "print(url)\n",
    "print (ts1, ts2)"
   ]
  },
  {
   "cell_type": "code",
   "execution_count": 41,
   "id": "6029d96a",
   "metadata": {},
   "outputs": [
    {
     "name": "stdout",
     "output_type": "stream",
     "text": [
      "https://query1.finance.yahoo.com/v7/finance/download/POWERGRID.NS?period1=1541010600&period2=1667327400&interval=1d&events=history\n",
      "1541010600 1667327400\n"
     ]
    }
   ],
   "source": [
    "stockcode = 'POWERGRID'\n",
    "\n",
    "ts1 = str(int(datetime.datetime(2018, 11, 1).timestamp())) \n",
    "ts2 = str(int(datetime.datetime(2022, 11, 2).timestamp()))\n",
    "\n",
    "interval = '1d'\n",
    "# interval = '1wk'\n",
    "#interval = '1mo'\n",
    "\n",
    "events = 'history'\n",
    "\n",
    "url = 'https://query1.finance.yahoo.com/v7/finance/download/'\\\n",
    "      + stockcode + '.NS?period1=' + ts1 + '&period2=' + ts2 + '&interval='\\\n",
    "      + interval + '&events=' + events\n",
    "\n",
    "print(url)\n",
    "print (ts1, ts2)"
   ]
  },
  {
   "cell_type": "code",
   "execution_count": 42,
   "id": "9eaf0d06",
   "metadata": {},
   "outputs": [
    {
     "name": "stdout",
     "output_type": "stream",
     "text": [
      "https://query1.finance.yahoo.com/v7/finance/download/RELIANCE.NS?period1=1541010600&period2=1667327400&interval=1d&events=history\n",
      "1541010600 1667327400\n"
     ]
    }
   ],
   "source": [
    "stockcode = 'RELIANCE'\n",
    "\n",
    "ts1 = str(int(datetime.datetime(2018, 11, 1).timestamp())) \n",
    "ts2 = str(int(datetime.datetime(2022, 11, 2).timestamp()))\n",
    "\n",
    "interval = '1d'\n",
    "# interval = '1wk'\n",
    "#interval = '1mo'\n",
    "\n",
    "events = 'history'\n",
    "\n",
    "url = 'https://query1.finance.yahoo.com/v7/finance/download/'\\\n",
    "      + stockcode + '.NS?period1=' + ts1 + '&period2=' + ts2 + '&interval='\\\n",
    "      + interval + '&events=' + events\n",
    "\n",
    "print(url)\n",
    "print (ts1, ts2)"
   ]
  },
  {
   "cell_type": "code",
   "execution_count": 43,
   "id": "7953fb32",
   "metadata": {},
   "outputs": [
    {
     "name": "stdout",
     "output_type": "stream",
     "text": [
      "https://query1.finance.yahoo.com/v7/finance/download/SBILIFE.NS?period1=1541010600&period2=1667327400&interval=1d&events=history\n",
      "1541010600 1667327400\n"
     ]
    }
   ],
   "source": [
    "stockcode = 'SBILIFE'\n",
    "\n",
    "ts1 = str(int(datetime.datetime(2018, 11, 1).timestamp())) \n",
    "ts2 = str(int(datetime.datetime(2022, 11, 2).timestamp()))\n",
    "\n",
    "interval = '1d'\n",
    "# interval = '1wk'\n",
    "#interval = '1mo'\n",
    "\n",
    "events = 'history'\n",
    "\n",
    "url = 'https://query1.finance.yahoo.com/v7/finance/download/'\\\n",
    "      + stockcode + '.NS?period1=' + ts1 + '&period2=' + ts2 + '&interval='\\\n",
    "      + interval + '&events=' + events\n",
    "\n",
    "print(url)\n",
    "print (ts1, ts2)"
   ]
  },
  {
   "cell_type": "code",
   "execution_count": 44,
   "id": "58fb9b3d",
   "metadata": {},
   "outputs": [
    {
     "name": "stdout",
     "output_type": "stream",
     "text": [
      "https://query1.finance.yahoo.com/v7/finance/download/SBIN.NS?period1=1541010600&period2=1667327400&interval=1d&events=history\n",
      "1541010600 1667327400\n"
     ]
    }
   ],
   "source": [
    "stockcode = 'SBIN'\n",
    "\n",
    "ts1 = str(int(datetime.datetime(2018, 11, 1).timestamp())) \n",
    "ts2 = str(int(datetime.datetime(2022, 11, 2).timestamp()))\n",
    "\n",
    "interval = '1d'\n",
    "# interval = '1wk'\n",
    "#interval = '1mo'\n",
    "\n",
    "events = 'history'\n",
    "\n",
    "url = 'https://query1.finance.yahoo.com/v7/finance/download/'\\\n",
    "      + stockcode + '.NS?period1=' + ts1 + '&period2=' + ts2 + '&interval='\\\n",
    "      + interval + '&events=' + events\n",
    "\n",
    "print(url)\n",
    "print (ts1, ts2)"
   ]
  },
  {
   "cell_type": "code",
   "execution_count": 45,
   "id": "82c9c4dd",
   "metadata": {},
   "outputs": [
    {
     "name": "stdout",
     "output_type": "stream",
     "text": [
      "https://query1.finance.yahoo.com/v7/finance/download/SUNPHARMA.NS?period1=1541010600&period2=1667327400&interval=1d&events=history\n",
      "1541010600 1667327400\n"
     ]
    }
   ],
   "source": [
    "stockcode = 'SUNPHARMA'\n",
    "\n",
    "ts1 = str(int(datetime.datetime(2018, 11, 1).timestamp())) \n",
    "ts2 = str(int(datetime.datetime(2022, 11, 2).timestamp()))\n",
    "\n",
    "interval = '1d'\n",
    "# interval = '1wk'\n",
    "#interval = '1mo'\n",
    "\n",
    "events = 'history'\n",
    "\n",
    "url = 'https://query1.finance.yahoo.com/v7/finance/download/'\\\n",
    "      + stockcode + '.NS?period1=' + ts1 + '&period2=' + ts2 + '&interval='\\\n",
    "      + interval + '&events=' + events\n",
    "\n",
    "print(url)\n",
    "print (ts1, ts2)"
   ]
  },
  {
   "cell_type": "code",
   "execution_count": 46,
   "id": "ac265b53",
   "metadata": {},
   "outputs": [
    {
     "name": "stdout",
     "output_type": "stream",
     "text": [
      "https://query1.finance.yahoo.com/v7/finance/download/TCS.NS?period1=1541010600&period2=1667327400&interval=1d&events=history\n",
      "1541010600 1667327400\n"
     ]
    }
   ],
   "source": [
    "stockcode = 'TCS'\n",
    "\n",
    "ts1 = str(int(datetime.datetime(2018, 11, 1).timestamp())) \n",
    "ts2 = str(int(datetime.datetime(2022, 11, 2).timestamp()))\n",
    "\n",
    "interval = '1d'\n",
    "# interval = '1wk'\n",
    "#interval = '1mo'\n",
    "\n",
    "events = 'history'\n",
    "\n",
    "url = 'https://query1.finance.yahoo.com/v7/finance/download/'\\\n",
    "      + stockcode + '.NS?period1=' + ts1 + '&period2=' + ts2 + '&interval='\\\n",
    "      + interval + '&events=' + events\n",
    "\n",
    "print(url)\n",
    "print (ts1, ts2)"
   ]
  },
  {
   "cell_type": "code",
   "execution_count": 47,
   "id": "44cd5387",
   "metadata": {},
   "outputs": [
    {
     "name": "stdout",
     "output_type": "stream",
     "text": [
      "https://query1.finance.yahoo.com/v7/finance/download/TATACONSUM.NS?period1=1541010600&period2=1667327400&interval=1d&events=history\n",
      "1541010600 1667327400\n"
     ]
    }
   ],
   "source": [
    "stockcode = 'TATACONSUM'\n",
    "\n",
    "ts1 = str(int(datetime.datetime(2018, 11, 1).timestamp())) \n",
    "ts2 = str(int(datetime.datetime(2022, 11, 2).timestamp()))\n",
    "\n",
    "interval = '1d'\n",
    "# interval = '1wk'\n",
    "#interval = '1mo'\n",
    "\n",
    "events = 'history'\n",
    "\n",
    "url = 'https://query1.finance.yahoo.com/v7/finance/download/'\\\n",
    "      + stockcode + '.NS?period1=' + ts1 + '&period2=' + ts2 + '&interval='\\\n",
    "      + interval + '&events=' + events\n",
    "\n",
    "print(url)\n",
    "print (ts1, ts2)"
   ]
  },
  {
   "cell_type": "code",
   "execution_count": 48,
   "id": "e065578b",
   "metadata": {},
   "outputs": [
    {
     "name": "stdout",
     "output_type": "stream",
     "text": [
      "https://query1.finance.yahoo.com/v7/finance/download/TATAMOTORS.NS?period1=1541010600&period2=1667327400&interval=1d&events=history\n",
      "1541010600 1667327400\n"
     ]
    }
   ],
   "source": [
    "stockcode = 'TATAMOTORS'\n",
    "\n",
    "ts1 = str(int(datetime.datetime(2018, 11, 1).timestamp())) \n",
    "ts2 = str(int(datetime.datetime(2022, 11, 2).timestamp()))\n",
    "\n",
    "interval = '1d'\n",
    "# interval = '1wk'\n",
    "#interval = '1mo'\n",
    "\n",
    "events = 'history'\n",
    "\n",
    "url = 'https://query1.finance.yahoo.com/v7/finance/download/'\\\n",
    "      + stockcode + '.NS?period1=' + ts1 + '&period2=' + ts2 + '&interval='\\\n",
    "      + interval + '&events=' + events\n",
    "\n",
    "print(url)\n",
    "print (ts1, ts2)"
   ]
  },
  {
   "cell_type": "code",
   "execution_count": 49,
   "id": "59bbc5d9",
   "metadata": {},
   "outputs": [
    {
     "name": "stdout",
     "output_type": "stream",
     "text": [
      "https://query1.finance.yahoo.com/v7/finance/download/TATASTEEL.NS?period1=1541010600&period2=1667327400&interval=1d&events=history\n",
      "1541010600 1667327400\n"
     ]
    }
   ],
   "source": [
    "stockcode = 'TATASTEEL'\n",
    "\n",
    "ts1 = str(int(datetime.datetime(2018, 11, 1).timestamp())) \n",
    "ts2 = str(int(datetime.datetime(2022, 11, 2).timestamp()))\n",
    "\n",
    "interval = '1d'\n",
    "# interval = '1wk'\n",
    "#interval = '1mo'\n",
    "\n",
    "events = 'history'\n",
    "\n",
    "url = 'https://query1.finance.yahoo.com/v7/finance/download/'\\\n",
    "      + stockcode + '.NS?period1=' + ts1 + '&period2=' + ts2 + '&interval='\\\n",
    "      + interval + '&events=' + events\n",
    "\n",
    "print(url)\n",
    "print (ts1, ts2)"
   ]
  },
  {
   "cell_type": "code",
   "execution_count": 50,
   "id": "437aecb0",
   "metadata": {},
   "outputs": [
    {
     "name": "stdout",
     "output_type": "stream",
     "text": [
      "https://query1.finance.yahoo.com/v7/finance/download/TECHM.NS?period1=1541010600&period2=1667327400&interval=1d&events=history\n",
      "1541010600 1667327400\n"
     ]
    }
   ],
   "source": [
    "stockcode = 'TECHM'\n",
    "\n",
    "ts1 = str(int(datetime.datetime(2018, 11, 1).timestamp())) \n",
    "ts2 = str(int(datetime.datetime(2022, 11, 2).timestamp()))\n",
    "\n",
    "interval = '1d'\n",
    "# interval = '1wk'\n",
    "#interval = '1mo'\n",
    "\n",
    "events = 'history'\n",
    "\n",
    "url = 'https://query1.finance.yahoo.com/v7/finance/download/'\\\n",
    "      + stockcode + '.NS?period1=' + ts1 + '&period2=' + ts2 + '&interval='\\\n",
    "      + interval + '&events=' + events\n",
    "\n",
    "print(url)\n",
    "print (ts1, ts2)"
   ]
  },
  {
   "cell_type": "code",
   "execution_count": 51,
   "id": "f72f7579",
   "metadata": {},
   "outputs": [
    {
     "name": "stdout",
     "output_type": "stream",
     "text": [
      "https://query1.finance.yahoo.com/v7/finance/download/TITAN.NS?period1=1541010600&period2=1667327400&interval=1d&events=history\n",
      "1541010600 1667327400\n"
     ]
    }
   ],
   "source": [
    "stockcode = 'TITAN'\n",
    "\n",
    "ts1 = str(int(datetime.datetime(2018, 11, 1).timestamp())) \n",
    "ts2 = str(int(datetime.datetime(2022, 11, 2).timestamp()))\n",
    "\n",
    "interval = '1d'\n",
    "# interval = '1wk'\n",
    "#interval = '1mo'\n",
    "\n",
    "events = 'history'\n",
    "\n",
    "url = 'https://query1.finance.yahoo.com/v7/finance/download/'\\\n",
    "      + stockcode + '.NS?period1=' + ts1 + '&period2=' + ts2 + '&interval='\\\n",
    "      + interval + '&events=' + events\n",
    "\n",
    "print(url)\n",
    "print (ts1, ts2)"
   ]
  },
  {
   "cell_type": "code",
   "execution_count": 52,
   "id": "f317387e",
   "metadata": {},
   "outputs": [
    {
     "name": "stdout",
     "output_type": "stream",
     "text": [
      "https://query1.finance.yahoo.com/v7/finance/download/UPL.NS?period1=1541010600&period2=1667327400&interval=1d&events=history\n",
      "1541010600 1667327400\n"
     ]
    }
   ],
   "source": [
    "stockcode = 'UPL'\n",
    "\n",
    "ts1 = str(int(datetime.datetime(2018, 11, 1).timestamp())) \n",
    "ts2 = str(int(datetime.datetime(2022, 11, 2).timestamp()))\n",
    "\n",
    "interval = '1d'\n",
    "# interval = '1wk'\n",
    "#interval = '1mo'\n",
    "\n",
    "events = 'history'\n",
    "\n",
    "url = 'https://query1.finance.yahoo.com/v7/finance/download/'\\\n",
    "      + stockcode + '.NS?period1=' + ts1 + '&period2=' + ts2 + '&interval='\\\n",
    "      + interval + '&events=' + events\n",
    "\n",
    "print(url)\n",
    "print (ts1, ts2)"
   ]
  },
  {
   "cell_type": "code",
   "execution_count": 53,
   "id": "d8f2aeb1",
   "metadata": {},
   "outputs": [
    {
     "name": "stdout",
     "output_type": "stream",
     "text": [
      "https://query1.finance.yahoo.com/v7/finance/download/ULTRACEMCO.NS?period1=1541010600&period2=1667327400&interval=1d&events=history\n",
      "1541010600 1667327400\n"
     ]
    }
   ],
   "source": [
    "stockcode = 'ULTRACEMCO'\n",
    "\n",
    "ts1 = str(int(datetime.datetime(2018, 11, 1).timestamp())) \n",
    "ts2 = str(int(datetime.datetime(2022, 11, 2).timestamp()))\n",
    "\n",
    "interval = '1d'\n",
    "# interval = '1wk'\n",
    "#interval = '1mo'\n",
    "\n",
    "events = 'history'\n",
    "\n",
    "url = 'https://query1.finance.yahoo.com/v7/finance/download/'\\\n",
    "      + stockcode + '.NS?period1=' + ts1 + '&period2=' + ts2 + '&interval='\\\n",
    "      + interval + '&events=' + events\n",
    "\n",
    "print(url)\n",
    "print (ts1, ts2)"
   ]
  },
  {
   "cell_type": "code",
   "execution_count": 54,
   "id": "5e415c96",
   "metadata": {},
   "outputs": [
    {
     "name": "stdout",
     "output_type": "stream",
     "text": [
      "https://query1.finance.yahoo.com/v7/finance/download/WIPRO.NS?period1=1541010600&period2=1667327400&interval=1d&events=history\n",
      "1541010600 1667327400\n"
     ]
    }
   ],
   "source": [
    "stockcode = 'WIPRO'\n",
    "\n",
    "ts1 = str(int(datetime.datetime(2018, 11, 1).timestamp())) \n",
    "ts2 = str(int(datetime.datetime(2022, 11, 2).timestamp()))\n",
    "\n",
    "interval = '1d'\n",
    "# interval = '1wk'\n",
    "#interval = '1mo'\n",
    "\n",
    "events = 'history'\n",
    "\n",
    "url = 'https://query1.finance.yahoo.com/v7/finance/download/'\\\n",
    "      + stockcode + '.NS?period1=' + ts1 + '&period2=' + ts2 + '&interval='\\\n",
    "      + interval + '&events=' + events\n",
    "\n",
    "print(url)\n",
    "print (ts1, ts2)"
   ]
  },
  {
   "cell_type": "code",
   "execution_count": 55,
   "id": "0281eb1b",
   "metadata": {},
   "outputs": [],
   "source": [
    "ADANIENT=pd.read_csv(r\"E:\\Masai Course(Data Anaytics)\\Project\\ML project\\ADANIENT.NS.csv\")\n",
    "ADANIPORTS=pd.read_csv(r\"E:\\Masai Course(Data Anaytics)\\Project\\ML project\\ADANIPORTS.NS.csv\")\n",
    "APOLLOHOSP=pd.read_csv(r\"E:\\Masai Course(Data Anaytics)\\Project\\ML project\\APOLLOHOSP.NS.csv\")\n",
    "ASIANPAINT=pd.read_csv(r\"E:\\Masai Course(Data Anaytics)\\Project\\ML project\\ASIANPAINT.NS.csv\")\n",
    "AXISBANK=pd.read_csv(r\"E:\\Masai Course(Data Anaytics)\\Project\\ML project\\AXISBANK.NS.csv\")\n",
    "BAJAJ_AUTO=pd.read_csv(r\"E:\\Masai Course(Data Anaytics)\\Project\\ML project\\BAJAJ-AUTO.NS.csv\")\n",
    "BAJFINANCE=pd.read_csv(r\"E:\\Masai Course(Data Anaytics)\\Project\\ML project\\BAJFINANCE.NS.csv\")\n",
    "BAJAJFINSV=pd.read_csv(r\"E:\\Masai Course(Data Anaytics)\\Project\\ML project\\BAJAJFINSV.NS.csv\")\n",
    "BPCL=pd.read_csv(r\"E:\\Masai Course(Data Anaytics)\\Project\\ML project\\BPCL.NS.csv\")\n",
    "BHARTIARTL=pd.read_csv(r\"E:\\Masai Course(Data Anaytics)\\Project\\ML project\\BHARTIARTL.NS.csv\")\n",
    "BRITANNIA=pd.read_csv(r\"E:\\Masai Course(Data Anaytics)\\Project\\ML project\\BRITANNIA.NS.csv\")\n",
    "CIPLA=pd.read_csv(r\"E:\\Masai Course(Data Anaytics)\\Project\\ML project\\CIPLA.NS.csv\")\n",
    "COALINDIA=pd.read_csv(r\"E:\\Masai Course(Data Anaytics)\\Project\\ML project\\COALINDIA.NS.csv\")\n",
    "DIVISLAB=pd.read_csv(r\"E:\\Masai Course(Data Anaytics)\\Project\\ML project\\DIVISLAB.NS.csv\")\n",
    "DRREDDY=pd.read_csv(r\"E:\\Masai Course(Data Anaytics)\\Project\\ML project\\DRREDDY.NS.csv\")\n",
    "EICHERMOT=pd.read_csv(r\"E:\\Masai Course(Data Anaytics)\\Project\\ML project\\EICHERMOT.NS.csv\")\n",
    "GRASIM=pd.read_csv(r\"E:\\Masai Course(Data Anaytics)\\Project\\ML project\\GRASIM.NS.csv\")\n",
    "HCLTECH=pd.read_csv(r\"E:\\Masai Course(Data Anaytics)\\Project\\ML project\\HCLTECH.NS.csv\")\n",
    "HDFCBANK=pd.read_csv(r\"E:\\Masai Course(Data Anaytics)\\Project\\ML project\\HDFCBANK.NS.csv\")\n",
    "HDFCLIFE=pd.read_csv(r\"E:\\Masai Course(Data Anaytics)\\Project\\ML project\\HDFCLIFE.NS.csv\")\n",
    "HEROMOTOCO=pd.read_csv(r\"E:\\Masai Course(Data Anaytics)\\Project\\ML project\\HEROMOTOCO.NS.csv\")\n",
    "HINDALCO=pd.read_csv(r\"E:\\Masai Course(Data Anaytics)\\Project\\ML project\\HINDALCO.NS.csv\")\n",
    "HINDUNILVR=pd.read_csv(r\"E:\\Masai Course(Data Anaytics)\\Project\\ML project\\HINDUNILVR.NS.csv\")\n",
    "HDFC=pd.read_csv(r\"E:\\Masai Course(Data Anaytics)\\Project\\ML project\\HDFC.NS.csv\")\n",
    "ICICIBANK=pd.read_csv(r\"E:\\Masai Course(Data Anaytics)\\Project\\ML project\\ICICIBANK.NS.csv\")\n",
    "ITC=pd.read_csv(r\"E:\\Masai Course(Data Anaytics)\\Project\\ML project\\ITC.NS.csv\")\n",
    "INDUSINDBK=pd.read_csv(r\"E:\\Masai Course(Data Anaytics)\\Project\\ML project\\INDUSINDBK.NS.csv\")\n",
    "INFY=pd.read_csv(r\"E:\\Masai Course(Data Anaytics)\\Project\\ML project\\INFY.NS.csv\")\n",
    "JSWSTEEL=pd.read_csv(r\"E:\\Masai Course(Data Anaytics)\\Project\\ML project\\JSWSTEEL.NS.csv\")\n",
    "KOTAKBANK=pd.read_csv(r\"E:\\Masai Course(Data Anaytics)\\Project\\ML project\\KOTAKBANK.NS.csv\")\n",
    "LT=pd.read_csv(r\"E:\\Masai Course(Data Anaytics)\\Project\\ML project\\LT.NS.csv\")\n",
    "M_M=pd.read_csv(r\"E:\\Masai Course(Data Anaytics)\\Project\\ML project\\M&M.NS.csv\")\n",
    "MARUTI=pd.read_csv(r\"E:\\Masai Course(Data Anaytics)\\Project\\ML project\\MARUTI.NS.csv\")\n",
    "NTPC=pd.read_csv(r\"E:\\Masai Course(Data Anaytics)\\Project\\ML project\\NTPC.NS.csv\")\n",
    "NESTLEIND=pd.read_csv(r\"E:\\Masai Course(Data Anaytics)\\Project\\ML project\\NESTLEIND.NS.csv\")\n",
    "ONGC=pd.read_csv(r\"E:\\Masai Course(Data Anaytics)\\Project\\ML project\\ONGC.NS.csv\")\n",
    "POWERGRID=pd.read_csv(r\"E:\\Masai Course(Data Anaytics)\\Project\\ML project\\POWERGRID.NS.csv\")\n",
    "RELIANCE=pd.read_csv(r\"E:\\Masai Course(Data Anaytics)\\Project\\ML project\\RELIANCE.NS.csv\")\n",
    "SBILIFE=pd.read_csv(r\"E:\\Masai Course(Data Anaytics)\\Project\\ML project\\SBILIFE.NS.csv\")\n",
    "SBIN=pd.read_csv(r\"E:\\Masai Course(Data Anaytics)\\Project\\ML project\\SBIN.NS.csv\")\n",
    "SUNPHARMA=pd.read_csv(r\"E:\\Masai Course(Data Anaytics)\\Project\\ML project\\SUNPHARMA.NS.csv\")\n",
    "TCS=pd.read_csv(r\"E:\\Masai Course(Data Anaytics)\\Project\\ML project\\TCS.NS.csv\")\n",
    "TATACONSUM=pd.read_csv(r\"E:\\Masai Course(Data Anaytics)\\Project\\ML project\\TATACONSUM.NS.csv\")\n",
    "TATAMOTORS=pd.read_csv(r\"E:\\Masai Course(Data Anaytics)\\Project\\ML project\\TATAMOTORS.NS.csv\")\n",
    "TATASTEEL=pd.read_csv(r\"E:\\Masai Course(Data Anaytics)\\Project\\ML project\\TATASTEEL.NS.csv\")\n",
    "TECHM=pd.read_csv(r\"E:\\Masai Course(Data Anaytics)\\Project\\ML project\\TECHM.NS.csv\")\n",
    "TITAN=pd.read_csv(r\"E:\\Masai Course(Data Anaytics)\\Project\\ML project\\TITAN.NS.csv\")\n",
    "UPL=pd.read_csv(r\"E:\\Masai Course(Data Anaytics)\\Project\\ML project\\UPL.NS.csv\")\n",
    "ULTRACEMCO=pd.read_csv(r\"E:\\Masai Course(Data Anaytics)\\Project\\ML project\\ULTRACEMCO.NS.csv\")\n",
    "WIPRO=pd.read_csv(r\"E:\\Masai Course(Data Anaytics)\\Project\\ML project\\WIPRO.NS.csv\")"
   ]
  },
  {
   "cell_type": "code",
   "execution_count": 56,
   "id": "8ebf2c87",
   "metadata": {},
   "outputs": [],
   "source": [
    "empty_list = []\n",
    "for i in range(len(ADANIENT)):\n",
    "    empty_list.append('ADANIENT') \n",
    "ADANIENT.insert(loc = 0,\n",
    "          column = 'Stockname',\n",
    "          value = empty_list)"
   ]
  },
  {
   "cell_type": "code",
   "execution_count": 57,
   "id": "cc17a70e",
   "metadata": {},
   "outputs": [],
   "source": [
    "empty_list = []\n",
    "for i in range(len(ADANIPORTS)):\n",
    "    empty_list.append('ADANIPORTS') \n",
    "ADANIPORTS.insert(loc = 0,\n",
    "          column = 'Stockname',\n",
    "          value = empty_list)"
   ]
  },
  {
   "cell_type": "code",
   "execution_count": 58,
   "id": "bfc63012",
   "metadata": {},
   "outputs": [],
   "source": [
    "empty_list = []\n",
    "for i in range(len(APOLLOHOSP)):\n",
    "    empty_list.append('APOLLOHOSP') \n",
    "APOLLOHOSP.insert(loc = 0,\n",
    "          column = 'Stockname',\n",
    "          value = empty_list)"
   ]
  },
  {
   "cell_type": "code",
   "execution_count": 59,
   "id": "9375b437",
   "metadata": {},
   "outputs": [],
   "source": [
    "empty_list = []\n",
    "for i in range(len(ASIANPAINT)):\n",
    "    empty_list.append('ASIANPAINT') \n",
    "ASIANPAINT.insert(loc = 0,\n",
    "          column = 'Stockname',\n",
    "          value = empty_list)"
   ]
  },
  {
   "cell_type": "code",
   "execution_count": 60,
   "id": "17dc3062",
   "metadata": {},
   "outputs": [],
   "source": [
    "empty_list = []\n",
    "for i in range(len(AXISBANK)):\n",
    "    empty_list.append('AXISBANK') \n",
    "AXISBANK.insert(loc = 0,\n",
    "          column = 'Stockname',\n",
    "          value = empty_list)"
   ]
  },
  {
   "cell_type": "code",
   "execution_count": 61,
   "id": "ddff1f0c",
   "metadata": {},
   "outputs": [],
   "source": [
    "empty_list = []\n",
    "for i in range(len(BAJAJ_AUTO)):\n",
    "    empty_list.append('BAJAJ_AUTO') \n",
    "BAJAJ_AUTO.insert(loc = 0,\n",
    "          column = 'Stockname',\n",
    "          value = empty_list)"
   ]
  },
  {
   "cell_type": "code",
   "execution_count": 62,
   "id": "8abd7ce5",
   "metadata": {},
   "outputs": [],
   "source": [
    "empty_list = []\n",
    "for i in range(len(BAJFINANCE)):\n",
    "    empty_list.append('BAJFINANCE') \n",
    "BAJFINANCE.insert(loc = 0,\n",
    "          column = 'Stockname',\n",
    "          value = empty_list)"
   ]
  },
  {
   "cell_type": "code",
   "execution_count": 63,
   "id": "c6413493",
   "metadata": {},
   "outputs": [],
   "source": [
    "empty_list = []\n",
    "for i in range(len(BAJAJFINSV)):\n",
    "    empty_list.append('BAJAJFINSV') \n",
    "BAJAJFINSV.insert(loc = 0,\n",
    "          column = 'Stockname',\n",
    "          value = empty_list)"
   ]
  },
  {
   "cell_type": "code",
   "execution_count": 64,
   "id": "daa1a260",
   "metadata": {},
   "outputs": [],
   "source": [
    "empty_list = []\n",
    "for i in range(len(BPCL)):\n",
    "    empty_list.append('BPCL') \n",
    "BPCL.insert(loc = 0,\n",
    "          column = 'Stockname',\n",
    "          value = empty_list)"
   ]
  },
  {
   "cell_type": "code",
   "execution_count": 65,
   "id": "ed661d04",
   "metadata": {},
   "outputs": [],
   "source": [
    "empty_list = []\n",
    "for i in range(len(BHARTIARTL)):\n",
    "    empty_list.append('BHARTIARTL') \n",
    "BHARTIARTL.insert(loc = 0,\n",
    "          column = 'Stockname',\n",
    "          value = empty_list)"
   ]
  },
  {
   "cell_type": "code",
   "execution_count": 66,
   "id": "2dbe4bbf",
   "metadata": {},
   "outputs": [],
   "source": [
    "empty_list = []\n",
    "for i in range(len(BRITANNIA)):\n",
    "    empty_list.append('BRITANNIA') \n",
    "BRITANNIA.insert(loc = 0,\n",
    "          column = 'Stockname',\n",
    "          value = empty_list)"
   ]
  },
  {
   "cell_type": "code",
   "execution_count": 67,
   "id": "e7128403",
   "metadata": {},
   "outputs": [],
   "source": [
    "empty_list = []\n",
    "for i in range(len(CIPLA)):\n",
    "    empty_list.append('CIPLA') \n",
    "CIPLA.insert(loc = 0,\n",
    "          column = 'Stockname',\n",
    "          value = empty_list)"
   ]
  },
  {
   "cell_type": "code",
   "execution_count": 68,
   "id": "72a14a77",
   "metadata": {},
   "outputs": [],
   "source": [
    "empty_list = []\n",
    "for i in range(len(COALINDIA)):\n",
    "    empty_list.append('COALINDIA') \n",
    "COALINDIA.insert(loc = 0,\n",
    "          column = 'Stockname',\n",
    "          value = empty_list)"
   ]
  },
  {
   "cell_type": "code",
   "execution_count": 69,
   "id": "f361566e",
   "metadata": {},
   "outputs": [],
   "source": [
    "empty_list = []\n",
    "for i in range(len(DIVISLAB)):\n",
    "    empty_list.append('DIVISLAB') \n",
    "DIVISLAB.insert(loc = 0,\n",
    "          column = 'Stockname',\n",
    "          value = empty_list)"
   ]
  },
  {
   "cell_type": "code",
   "execution_count": 70,
   "id": "5ab3b2d4",
   "metadata": {},
   "outputs": [],
   "source": [
    "empty_list = []\n",
    "for i in range(len(DRREDDY)):\n",
    "    empty_list.append('DRREDDY') \n",
    "DRREDDY.insert(loc = 0,\n",
    "          column = 'Stockname',\n",
    "          value = empty_list)"
   ]
  },
  {
   "cell_type": "code",
   "execution_count": 71,
   "id": "16ba6d2a",
   "metadata": {},
   "outputs": [],
   "source": [
    "empty_list = []\n",
    "for i in range(len(EICHERMOT)):\n",
    "    empty_list.append('EICHERMOT') \n",
    "EICHERMOT.insert(loc = 0,\n",
    "          column = 'Stockname',\n",
    "          value = empty_list)"
   ]
  },
  {
   "cell_type": "code",
   "execution_count": 72,
   "id": "bafa77af",
   "metadata": {},
   "outputs": [],
   "source": [
    "empty_list = []\n",
    "for i in range(len(GRASIM)):\n",
    "    empty_list.append('GRASIM') \n",
    "GRASIM.insert(loc = 0,\n",
    "          column = 'Stockname',\n",
    "          value = empty_list)"
   ]
  },
  {
   "cell_type": "code",
   "execution_count": 73,
   "id": "8c20c5d2",
   "metadata": {},
   "outputs": [],
   "source": [
    "empty_list = []\n",
    "for i in range(len(HCLTECH)):\n",
    "    empty_list.append('HCLTECH') \n",
    "HCLTECH.insert(loc = 0,\n",
    "          column = 'Stockname',\n",
    "          value = empty_list)"
   ]
  },
  {
   "cell_type": "code",
   "execution_count": 74,
   "id": "b22722db",
   "metadata": {},
   "outputs": [],
   "source": [
    "empty_list = []\n",
    "for i in range(len(HDFCBANK)):\n",
    "    empty_list.append('HDFCBANK') \n",
    "HDFCBANK.insert(loc = 0,\n",
    "          column = 'Stockname',\n",
    "          value = empty_list)"
   ]
  },
  {
   "cell_type": "code",
   "execution_count": 75,
   "id": "50f4d795",
   "metadata": {},
   "outputs": [],
   "source": [
    "empty_list = []\n",
    "for i in range(len(HDFCLIFE)):\n",
    "    empty_list.append('HDFCLIFE') \n",
    "HDFCLIFE.insert(loc = 0,\n",
    "          column = 'Stockname',\n",
    "          value = empty_list)"
   ]
  },
  {
   "cell_type": "code",
   "execution_count": 76,
   "id": "b9e63cb0",
   "metadata": {},
   "outputs": [],
   "source": [
    "empty_list = []\n",
    "for i in range(len(HEROMOTOCO)):\n",
    "    empty_list.append('HEROMOTOCO') \n",
    "HEROMOTOCO.insert(loc = 0,\n",
    "          column = 'Stockname',\n",
    "          value = empty_list)"
   ]
  },
  {
   "cell_type": "code",
   "execution_count": 77,
   "id": "70e1bfb3",
   "metadata": {},
   "outputs": [],
   "source": [
    "empty_list = []\n",
    "for i in range(len(HINDALCO)):\n",
    "    empty_list.append('HINDALCO') \n",
    "HINDALCO.insert(loc = 0,\n",
    "          column = 'Stockname',\n",
    "          value = empty_list)"
   ]
  },
  {
   "cell_type": "code",
   "execution_count": 78,
   "id": "b5c22db1",
   "metadata": {},
   "outputs": [],
   "source": [
    "empty_list = []\n",
    "for i in range(len(HINDUNILVR)):\n",
    "    empty_list.append('HINDUNILVR') \n",
    "HINDUNILVR.insert(loc = 0,\n",
    "          column = 'Stockname',\n",
    "          value = empty_list)"
   ]
  },
  {
   "cell_type": "code",
   "execution_count": 79,
   "id": "db45a217",
   "metadata": {},
   "outputs": [],
   "source": [
    "empty_list = []\n",
    "for i in range(len(HDFC)):\n",
    "    empty_list.append('HDFC') \n",
    "HDFC.insert(loc = 0,\n",
    "          column = 'Stockname',\n",
    "          value = empty_list)"
   ]
  },
  {
   "cell_type": "code",
   "execution_count": 80,
   "id": "0d9fe12e",
   "metadata": {},
   "outputs": [],
   "source": [
    "empty_list = []\n",
    "for i in range(len(ICICIBANK)):\n",
    "    empty_list.append('ICICIBANK') \n",
    "ICICIBANK.insert(loc = 0,\n",
    "          column = 'Stockname',\n",
    "          value = empty_list)"
   ]
  },
  {
   "cell_type": "code",
   "execution_count": 81,
   "id": "ee0db7f1",
   "metadata": {},
   "outputs": [],
   "source": [
    "empty_list = []\n",
    "for i in range(len(ITC)):\n",
    "    empty_list.append('ITC') \n",
    "ITC.insert(loc = 0,\n",
    "          column = 'Stockname',\n",
    "          value = empty_list)"
   ]
  },
  {
   "cell_type": "code",
   "execution_count": 82,
   "id": "7f7cfc89",
   "metadata": {},
   "outputs": [],
   "source": [
    "empty_list = []\n",
    "for i in range(len(INDUSINDBK)):\n",
    "    empty_list.append('INDUSINDBK') \n",
    "INDUSINDBK.insert(loc = 0,\n",
    "          column = 'Stockname',\n",
    "          value = empty_list)"
   ]
  },
  {
   "cell_type": "code",
   "execution_count": 83,
   "id": "df7e57ac",
   "metadata": {},
   "outputs": [],
   "source": [
    "empty_list = []\n",
    "for i in range(len(INFY)):\n",
    "    empty_list.append('INFY') \n",
    "INFY.insert(loc = 0,\n",
    "          column = 'Stockname',\n",
    "          value = empty_list)"
   ]
  },
  {
   "cell_type": "code",
   "execution_count": 84,
   "id": "946998d4",
   "metadata": {},
   "outputs": [],
   "source": [
    "empty_list = []\n",
    "for i in range(len(JSWSTEEL)):\n",
    "    empty_list.append('JSWSTEEL') \n",
    "JSWSTEEL.insert(loc = 0,\n",
    "          column = 'Stockname',\n",
    "          value = empty_list)"
   ]
  },
  {
   "cell_type": "code",
   "execution_count": 85,
   "id": "fb4e37b9",
   "metadata": {},
   "outputs": [],
   "source": [
    "empty_list = []\n",
    "for i in range(len(KOTAKBANK)):\n",
    "    empty_list.append('KOTAKBANK') \n",
    "KOTAKBANK.insert(loc = 0,\n",
    "          column = 'Stockname',\n",
    "          value = empty_list)"
   ]
  },
  {
   "cell_type": "code",
   "execution_count": 86,
   "id": "bbe502cd",
   "metadata": {},
   "outputs": [],
   "source": [
    "empty_list = []\n",
    "for i in range(len(LT)):\n",
    "    empty_list.append('LT') \n",
    "LT.insert(loc = 0,\n",
    "          column = 'Stockname',\n",
    "          value = empty_list)"
   ]
  },
  {
   "cell_type": "code",
   "execution_count": 87,
   "id": "33c2b953",
   "metadata": {},
   "outputs": [],
   "source": [
    "empty_list = []\n",
    "for i in range(len(M_M)):\n",
    "    empty_list.append('M&M') \n",
    "M_M.insert(loc = 0,\n",
    "          column = 'Stockname',\n",
    "          value = empty_list)"
   ]
  },
  {
   "cell_type": "code",
   "execution_count": 88,
   "id": "ce692498",
   "metadata": {},
   "outputs": [],
   "source": [
    "empty_list = []\n",
    "for i in range(len(MARUTI)):\n",
    "    empty_list.append('MARUTI') \n",
    "MARUTI.insert(loc = 0,\n",
    "          column = 'Stockname',\n",
    "          value = empty_list)"
   ]
  },
  {
   "cell_type": "code",
   "execution_count": 89,
   "id": "2cfc3766",
   "metadata": {},
   "outputs": [],
   "source": [
    "empty_list = []\n",
    "for i in range(len(NTPC)):\n",
    "    empty_list.append('NTPC') \n",
    "NTPC.insert(loc = 0,\n",
    "          column = 'Stockname',\n",
    "          value = empty_list)"
   ]
  },
  {
   "cell_type": "code",
   "execution_count": 90,
   "id": "2dd15989",
   "metadata": {},
   "outputs": [],
   "source": [
    "empty_list = []\n",
    "for i in range(len(NESTLEIND)):\n",
    "    empty_list.append('NESTLEIND') \n",
    "NESTLEIND.insert(loc = 0,\n",
    "          column = 'Stockname',\n",
    "          value = empty_list)"
   ]
  },
  {
   "cell_type": "code",
   "execution_count": 91,
   "id": "09f32cf1",
   "metadata": {},
   "outputs": [],
   "source": [
    "empty_list = []\n",
    "for i in range(len(ONGC)):\n",
    "    empty_list.append('ONGC') \n",
    "ONGC.insert(loc = 0,\n",
    "          column = 'Stockname',\n",
    "          value = empty_list)"
   ]
  },
  {
   "cell_type": "code",
   "execution_count": 92,
   "id": "037e669f",
   "metadata": {},
   "outputs": [],
   "source": [
    "empty_list = []\n",
    "for i in range(len(POWERGRID)):\n",
    "    empty_list.append('POWERGRID') \n",
    "POWERGRID.insert(loc = 0,\n",
    "          column = 'Stockname',\n",
    "          value = empty_list)"
   ]
  },
  {
   "cell_type": "code",
   "execution_count": 93,
   "id": "7fef76a0",
   "metadata": {},
   "outputs": [],
   "source": [
    "empty_list = []\n",
    "for i in range(len(RELIANCE)):\n",
    "    empty_list.append('RELIANCE') \n",
    "RELIANCE.insert(loc = 0,\n",
    "          column = 'Stockname',\n",
    "          value = empty_list)"
   ]
  },
  {
   "cell_type": "code",
   "execution_count": 94,
   "id": "468d8799",
   "metadata": {},
   "outputs": [],
   "source": [
    "empty_list = []\n",
    "for i in range(len(SBILIFE)):\n",
    "    empty_list.append('SBILIFE') \n",
    "SBILIFE.insert(loc = 0,\n",
    "          column = 'Stockname',\n",
    "          value = empty_list)"
   ]
  },
  {
   "cell_type": "code",
   "execution_count": 95,
   "id": "7e7e019e",
   "metadata": {},
   "outputs": [],
   "source": [
    "empty_list = []\n",
    "for i in range(len(SBIN)):\n",
    "    empty_list.append('SBIN') \n",
    "SBIN.insert(loc = 0,\n",
    "          column = 'Stockname',\n",
    "          value = empty_list)"
   ]
  },
  {
   "cell_type": "code",
   "execution_count": 96,
   "id": "cbdc3f2c",
   "metadata": {},
   "outputs": [],
   "source": [
    "empty_list = []\n",
    "for i in range(len(SUNPHARMA)):\n",
    "    empty_list.append('SUNPHARMA') \n",
    "SUNPHARMA.insert(loc = 0,\n",
    "          column = 'Stockname',\n",
    "          value = empty_list)"
   ]
  },
  {
   "cell_type": "code",
   "execution_count": 97,
   "id": "83df51af",
   "metadata": {},
   "outputs": [],
   "source": [
    "empty_list = []\n",
    "for i in range(len(TCS)):\n",
    "    empty_list.append('TCS') \n",
    "TCS.insert(loc = 0,\n",
    "          column = 'Stockname',\n",
    "          value = empty_list)"
   ]
  },
  {
   "cell_type": "code",
   "execution_count": 98,
   "id": "33896011",
   "metadata": {},
   "outputs": [],
   "source": [
    "empty_list = []\n",
    "for i in range(len(TATACONSUM)):\n",
    "    empty_list.append('TATACONSUM') \n",
    "TATACONSUM.insert(loc = 0,\n",
    "          column = 'Stockname',\n",
    "          value = empty_list)"
   ]
  },
  {
   "cell_type": "code",
   "execution_count": 99,
   "id": "eff1c8fa",
   "metadata": {},
   "outputs": [],
   "source": [
    "empty_list = []\n",
    "for i in range(len(TATAMOTORS)):\n",
    "    empty_list.append('TATAMOTORS') \n",
    "TATAMOTORS.insert(loc = 0,\n",
    "          column = 'Stockname',\n",
    "          value = empty_list)"
   ]
  },
  {
   "cell_type": "code",
   "execution_count": 100,
   "id": "51182a99",
   "metadata": {},
   "outputs": [],
   "source": [
    "empty_list = []\n",
    "for i in range(len(TATASTEEL)):\n",
    "    empty_list.append('TATASTEEL') \n",
    "TATASTEEL.insert(loc = 0,\n",
    "          column = 'Stockname',\n",
    "          value = empty_list)"
   ]
  },
  {
   "cell_type": "code",
   "execution_count": 101,
   "id": "93103121",
   "metadata": {},
   "outputs": [],
   "source": [
    "empty_list = []\n",
    "for i in range(len(TECHM)):\n",
    "    empty_list.append('TECHM') \n",
    "TECHM.insert(loc = 0,\n",
    "          column = 'Stockname',\n",
    "          value = empty_list)"
   ]
  },
  {
   "cell_type": "code",
   "execution_count": 102,
   "id": "03833bc1",
   "metadata": {},
   "outputs": [],
   "source": [
    "empty_list = []\n",
    "for i in range(len(TITAN)):\n",
    "    empty_list.append('TITAN') \n",
    "TITAN.insert(loc = 0,\n",
    "          column = 'Stockname',\n",
    "          value = empty_list)"
   ]
  },
  {
   "cell_type": "code",
   "execution_count": 103,
   "id": "79c7f54b",
   "metadata": {},
   "outputs": [],
   "source": [
    "empty_list = []\n",
    "for i in range(len(UPL)):\n",
    "    empty_list.append('UPL') \n",
    "UPL.insert(loc = 0,\n",
    "          column = 'Stockname',\n",
    "          value = empty_list)"
   ]
  },
  {
   "cell_type": "code",
   "execution_count": 104,
   "id": "7d1c05f4",
   "metadata": {},
   "outputs": [],
   "source": [
    "empty_list = []\n",
    "for i in range(len(ULTRACEMCO)):\n",
    "    empty_list.append('ULTRACEMCO') \n",
    "ULTRACEMCO.insert(loc = 0,\n",
    "          column = 'Stockname',\n",
    "          value = empty_list)"
   ]
  },
  {
   "cell_type": "code",
   "execution_count": 105,
   "id": "32f9202f",
   "metadata": {},
   "outputs": [],
   "source": [
    "empty_list = []\n",
    "for i in range(len(WIPRO)):\n",
    "    empty_list.append('WIPRO') \n",
    "WIPRO.insert(loc = 0,\n",
    "          column = 'Stockname',\n",
    "          value = empty_list)"
   ]
  },
  {
   "cell_type": "code",
   "execution_count": 106,
   "id": "54a084ac",
   "metadata": {},
   "outputs": [],
   "source": [
    "## i have combained all csv files \n",
    "Stock_data=pd.concat([ADANIENT,ADANIPORTS,APOLLOHOSP,ASIANPAINT,AXISBANK,BAJAJ_AUTO,BAJFINANCE,BAJAJFINSV,BPCL,BHARTIARTL,BRITANNIA,\n",
    "           CIPLA,COALINDIA,DIVISLAB,DRREDDY,EICHERMOT,GRASIM,HCLTECH,HDFCBANK,HDFCLIFE,HEROMOTOCO,HINDALCO,HINDUNILVR,HDFC,\n",
    "           ICICIBANK,ITC,INDUSINDBK,INFY,JSWSTEEL,KOTAKBANK,LT,M_M,MARUTI,NTPC,NESTLEIND,ONGC,POWERGRID,RELIANCE,SBILIFE,SBIN,\n",
    "           SUNPHARMA,TCS,TATACONSUM,TATAMOTORS,TATASTEEL,TECHM,TITAN,UPL,ULTRACEMCO,WIPRO], axis=0)"
   ]
  },
  {
   "cell_type": "code",
   "execution_count": 107,
   "id": "89c5b557",
   "metadata": {},
   "outputs": [
    {
     "data": {
      "text/html": [
       "<div>\n",
       "<style scoped>\n",
       "    .dataframe tbody tr th:only-of-type {\n",
       "        vertical-align: middle;\n",
       "    }\n",
       "\n",
       "    .dataframe tbody tr th {\n",
       "        vertical-align: top;\n",
       "    }\n",
       "\n",
       "    .dataframe thead th {\n",
       "        text-align: right;\n",
       "    }\n",
       "</style>\n",
       "<table border=\"1\" class=\"dataframe\">\n",
       "  <thead>\n",
       "    <tr style=\"text-align: right;\">\n",
       "      <th></th>\n",
       "      <th>Stockname</th>\n",
       "      <th>Date</th>\n",
       "      <th>Open</th>\n",
       "      <th>High</th>\n",
       "      <th>Low</th>\n",
       "      <th>Close</th>\n",
       "      <th>Adj Close</th>\n",
       "      <th>Volume</th>\n",
       "    </tr>\n",
       "  </thead>\n",
       "  <tbody>\n",
       "    <tr>\n",
       "      <th>0</th>\n",
       "      <td>ADANIENT</td>\n",
       "      <td>2018-11-01</td>\n",
       "      <td>171.050003</td>\n",
       "      <td>178.100006</td>\n",
       "      <td>168.850006</td>\n",
       "      <td>175.000000</td>\n",
       "      <td>173.013641</td>\n",
       "      <td>8041754</td>\n",
       "    </tr>\n",
       "    <tr>\n",
       "      <th>1</th>\n",
       "      <td>ADANIENT</td>\n",
       "      <td>2018-11-02</td>\n",
       "      <td>176.600006</td>\n",
       "      <td>179.500000</td>\n",
       "      <td>173.800003</td>\n",
       "      <td>175.600006</td>\n",
       "      <td>173.606827</td>\n",
       "      <td>6839045</td>\n",
       "    </tr>\n",
       "    <tr>\n",
       "      <th>2</th>\n",
       "      <td>ADANIENT</td>\n",
       "      <td>2018-11-05</td>\n",
       "      <td>176.100006</td>\n",
       "      <td>176.750000</td>\n",
       "      <td>155.800003</td>\n",
       "      <td>168.500000</td>\n",
       "      <td>166.587402</td>\n",
       "      <td>12668556</td>\n",
       "    </tr>\n",
       "    <tr>\n",
       "      <th>3</th>\n",
       "      <td>ADANIENT</td>\n",
       "      <td>2018-11-06</td>\n",
       "      <td>168.250000</td>\n",
       "      <td>169.000000</td>\n",
       "      <td>162.000000</td>\n",
       "      <td>164.449997</td>\n",
       "      <td>162.583374</td>\n",
       "      <td>5834504</td>\n",
       "    </tr>\n",
       "    <tr>\n",
       "      <th>4</th>\n",
       "      <td>ADANIENT</td>\n",
       "      <td>2018-11-07</td>\n",
       "      <td>165.000000</td>\n",
       "      <td>169.000000</td>\n",
       "      <td>164.699997</td>\n",
       "      <td>165.750000</td>\n",
       "      <td>163.868622</td>\n",
       "      <td>1138303</td>\n",
       "    </tr>\n",
       "    <tr>\n",
       "      <th>...</th>\n",
       "      <td>...</td>\n",
       "      <td>...</td>\n",
       "      <td>...</td>\n",
       "      <td>...</td>\n",
       "      <td>...</td>\n",
       "      <td>...</td>\n",
       "      <td>...</td>\n",
       "      <td>...</td>\n",
       "    </tr>\n",
       "    <tr>\n",
       "      <th>983</th>\n",
       "      <td>WIPRO</td>\n",
       "      <td>2022-10-25</td>\n",
       "      <td>386.450012</td>\n",
       "      <td>386.450012</td>\n",
       "      <td>383.649994</td>\n",
       "      <td>384.649994</td>\n",
       "      <td>384.649994</td>\n",
       "      <td>2891628</td>\n",
       "    </tr>\n",
       "    <tr>\n",
       "      <th>984</th>\n",
       "      <td>WIPRO</td>\n",
       "      <td>2022-10-27</td>\n",
       "      <td>386.000000</td>\n",
       "      <td>386.950012</td>\n",
       "      <td>381.100006</td>\n",
       "      <td>382.649994</td>\n",
       "      <td>382.649994</td>\n",
       "      <td>5861559</td>\n",
       "    </tr>\n",
       "    <tr>\n",
       "      <th>985</th>\n",
       "      <td>WIPRO</td>\n",
       "      <td>2022-10-28</td>\n",
       "      <td>382.799988</td>\n",
       "      <td>385.850006</td>\n",
       "      <td>382.000000</td>\n",
       "      <td>383.250000</td>\n",
       "      <td>383.250000</td>\n",
       "      <td>3804838</td>\n",
       "    </tr>\n",
       "    <tr>\n",
       "      <th>986</th>\n",
       "      <td>WIPRO</td>\n",
       "      <td>2022-10-31</td>\n",
       "      <td>386.549988</td>\n",
       "      <td>388.399994</td>\n",
       "      <td>384.750000</td>\n",
       "      <td>386.549988</td>\n",
       "      <td>386.549988</td>\n",
       "      <td>3319191</td>\n",
       "    </tr>\n",
       "    <tr>\n",
       "      <th>987</th>\n",
       "      <td>WIPRO</td>\n",
       "      <td>2022-11-01</td>\n",
       "      <td>388.000000</td>\n",
       "      <td>393.000000</td>\n",
       "      <td>386.600006</td>\n",
       "      <td>392.399994</td>\n",
       "      <td>392.399994</td>\n",
       "      <td>5770098</td>\n",
       "    </tr>\n",
       "  </tbody>\n",
       "</table>\n",
       "<p>49400 rows × 8 columns</p>\n",
       "</div>"
      ],
      "text/plain": [
       "    Stockname        Date        Open        High         Low       Close  \\\n",
       "0    ADANIENT  2018-11-01  171.050003  178.100006  168.850006  175.000000   \n",
       "1    ADANIENT  2018-11-02  176.600006  179.500000  173.800003  175.600006   \n",
       "2    ADANIENT  2018-11-05  176.100006  176.750000  155.800003  168.500000   \n",
       "3    ADANIENT  2018-11-06  168.250000  169.000000  162.000000  164.449997   \n",
       "4    ADANIENT  2018-11-07  165.000000  169.000000  164.699997  165.750000   \n",
       "..        ...         ...         ...         ...         ...         ...   \n",
       "983     WIPRO  2022-10-25  386.450012  386.450012  383.649994  384.649994   \n",
       "984     WIPRO  2022-10-27  386.000000  386.950012  381.100006  382.649994   \n",
       "985     WIPRO  2022-10-28  382.799988  385.850006  382.000000  383.250000   \n",
       "986     WIPRO  2022-10-31  386.549988  388.399994  384.750000  386.549988   \n",
       "987     WIPRO  2022-11-01  388.000000  393.000000  386.600006  392.399994   \n",
       "\n",
       "      Adj Close    Volume  \n",
       "0    173.013641   8041754  \n",
       "1    173.606827   6839045  \n",
       "2    166.587402  12668556  \n",
       "3    162.583374   5834504  \n",
       "4    163.868622   1138303  \n",
       "..          ...       ...  \n",
       "983  384.649994   2891628  \n",
       "984  382.649994   5861559  \n",
       "985  383.250000   3804838  \n",
       "986  386.549988   3319191  \n",
       "987  392.399994   5770098  \n",
       "\n",
       "[49400 rows x 8 columns]"
      ]
     },
     "execution_count": 107,
     "metadata": {},
     "output_type": "execute_result"
    }
   ],
   "source": [
    "# Combained Data\n",
    "Stock_data"
   ]
  },
  {
   "cell_type": "code",
   "execution_count": 108,
   "id": "f3860cfd",
   "metadata": {},
   "outputs": [],
   "source": [
    "Stock_data.reset_index(drop=True, inplace=True)"
   ]
  },
  {
   "cell_type": "code",
   "execution_count": 109,
   "id": "5ee5d519",
   "metadata": {},
   "outputs": [
    {
     "data": {
      "text/html": [
       "<div>\n",
       "<style scoped>\n",
       "    .dataframe tbody tr th:only-of-type {\n",
       "        vertical-align: middle;\n",
       "    }\n",
       "\n",
       "    .dataframe tbody tr th {\n",
       "        vertical-align: top;\n",
       "    }\n",
       "\n",
       "    .dataframe thead th {\n",
       "        text-align: right;\n",
       "    }\n",
       "</style>\n",
       "<table border=\"1\" class=\"dataframe\">\n",
       "  <thead>\n",
       "    <tr style=\"text-align: right;\">\n",
       "      <th></th>\n",
       "      <th>Stockname</th>\n",
       "      <th>Date</th>\n",
       "      <th>Open</th>\n",
       "      <th>High</th>\n",
       "      <th>Low</th>\n",
       "      <th>Close</th>\n",
       "      <th>Adj Close</th>\n",
       "      <th>Volume</th>\n",
       "    </tr>\n",
       "  </thead>\n",
       "  <tbody>\n",
       "    <tr>\n",
       "      <th>0</th>\n",
       "      <td>ADANIENT</td>\n",
       "      <td>2018-11-01</td>\n",
       "      <td>171.050003</td>\n",
       "      <td>178.100006</td>\n",
       "      <td>168.850006</td>\n",
       "      <td>175.000000</td>\n",
       "      <td>173.013641</td>\n",
       "      <td>8041754</td>\n",
       "    </tr>\n",
       "    <tr>\n",
       "      <th>1</th>\n",
       "      <td>ADANIENT</td>\n",
       "      <td>2018-11-02</td>\n",
       "      <td>176.600006</td>\n",
       "      <td>179.500000</td>\n",
       "      <td>173.800003</td>\n",
       "      <td>175.600006</td>\n",
       "      <td>173.606827</td>\n",
       "      <td>6839045</td>\n",
       "    </tr>\n",
       "    <tr>\n",
       "      <th>2</th>\n",
       "      <td>ADANIENT</td>\n",
       "      <td>2018-11-05</td>\n",
       "      <td>176.100006</td>\n",
       "      <td>176.750000</td>\n",
       "      <td>155.800003</td>\n",
       "      <td>168.500000</td>\n",
       "      <td>166.587402</td>\n",
       "      <td>12668556</td>\n",
       "    </tr>\n",
       "    <tr>\n",
       "      <th>3</th>\n",
       "      <td>ADANIENT</td>\n",
       "      <td>2018-11-06</td>\n",
       "      <td>168.250000</td>\n",
       "      <td>169.000000</td>\n",
       "      <td>162.000000</td>\n",
       "      <td>164.449997</td>\n",
       "      <td>162.583374</td>\n",
       "      <td>5834504</td>\n",
       "    </tr>\n",
       "    <tr>\n",
       "      <th>4</th>\n",
       "      <td>ADANIENT</td>\n",
       "      <td>2018-11-07</td>\n",
       "      <td>165.000000</td>\n",
       "      <td>169.000000</td>\n",
       "      <td>164.699997</td>\n",
       "      <td>165.750000</td>\n",
       "      <td>163.868622</td>\n",
       "      <td>1138303</td>\n",
       "    </tr>\n",
       "    <tr>\n",
       "      <th>...</th>\n",
       "      <td>...</td>\n",
       "      <td>...</td>\n",
       "      <td>...</td>\n",
       "      <td>...</td>\n",
       "      <td>...</td>\n",
       "      <td>...</td>\n",
       "      <td>...</td>\n",
       "      <td>...</td>\n",
       "    </tr>\n",
       "    <tr>\n",
       "      <th>49395</th>\n",
       "      <td>WIPRO</td>\n",
       "      <td>2022-10-25</td>\n",
       "      <td>386.450012</td>\n",
       "      <td>386.450012</td>\n",
       "      <td>383.649994</td>\n",
       "      <td>384.649994</td>\n",
       "      <td>384.649994</td>\n",
       "      <td>2891628</td>\n",
       "    </tr>\n",
       "    <tr>\n",
       "      <th>49396</th>\n",
       "      <td>WIPRO</td>\n",
       "      <td>2022-10-27</td>\n",
       "      <td>386.000000</td>\n",
       "      <td>386.950012</td>\n",
       "      <td>381.100006</td>\n",
       "      <td>382.649994</td>\n",
       "      <td>382.649994</td>\n",
       "      <td>5861559</td>\n",
       "    </tr>\n",
       "    <tr>\n",
       "      <th>49397</th>\n",
       "      <td>WIPRO</td>\n",
       "      <td>2022-10-28</td>\n",
       "      <td>382.799988</td>\n",
       "      <td>385.850006</td>\n",
       "      <td>382.000000</td>\n",
       "      <td>383.250000</td>\n",
       "      <td>383.250000</td>\n",
       "      <td>3804838</td>\n",
       "    </tr>\n",
       "    <tr>\n",
       "      <th>49398</th>\n",
       "      <td>WIPRO</td>\n",
       "      <td>2022-10-31</td>\n",
       "      <td>386.549988</td>\n",
       "      <td>388.399994</td>\n",
       "      <td>384.750000</td>\n",
       "      <td>386.549988</td>\n",
       "      <td>386.549988</td>\n",
       "      <td>3319191</td>\n",
       "    </tr>\n",
       "    <tr>\n",
       "      <th>49399</th>\n",
       "      <td>WIPRO</td>\n",
       "      <td>2022-11-01</td>\n",
       "      <td>388.000000</td>\n",
       "      <td>393.000000</td>\n",
       "      <td>386.600006</td>\n",
       "      <td>392.399994</td>\n",
       "      <td>392.399994</td>\n",
       "      <td>5770098</td>\n",
       "    </tr>\n",
       "  </tbody>\n",
       "</table>\n",
       "<p>49400 rows × 8 columns</p>\n",
       "</div>"
      ],
      "text/plain": [
       "      Stockname        Date        Open        High         Low       Close  \\\n",
       "0      ADANIENT  2018-11-01  171.050003  178.100006  168.850006  175.000000   \n",
       "1      ADANIENT  2018-11-02  176.600006  179.500000  173.800003  175.600006   \n",
       "2      ADANIENT  2018-11-05  176.100006  176.750000  155.800003  168.500000   \n",
       "3      ADANIENT  2018-11-06  168.250000  169.000000  162.000000  164.449997   \n",
       "4      ADANIENT  2018-11-07  165.000000  169.000000  164.699997  165.750000   \n",
       "...         ...         ...         ...         ...         ...         ...   \n",
       "49395     WIPRO  2022-10-25  386.450012  386.450012  383.649994  384.649994   \n",
       "49396     WIPRO  2022-10-27  386.000000  386.950012  381.100006  382.649994   \n",
       "49397     WIPRO  2022-10-28  382.799988  385.850006  382.000000  383.250000   \n",
       "49398     WIPRO  2022-10-31  386.549988  388.399994  384.750000  386.549988   \n",
       "49399     WIPRO  2022-11-01  388.000000  393.000000  386.600006  392.399994   \n",
       "\n",
       "        Adj Close    Volume  \n",
       "0      173.013641   8041754  \n",
       "1      173.606827   6839045  \n",
       "2      166.587402  12668556  \n",
       "3      162.583374   5834504  \n",
       "4      163.868622   1138303  \n",
       "...           ...       ...  \n",
       "49395  384.649994   2891628  \n",
       "49396  382.649994   5861559  \n",
       "49397  383.250000   3804838  \n",
       "49398  386.549988   3319191  \n",
       "49399  392.399994   5770098  \n",
       "\n",
       "[49400 rows x 8 columns]"
      ]
     },
     "execution_count": 109,
     "metadata": {},
     "output_type": "execute_result"
    }
   ],
   "source": [
    "# Finalized data of Nifty-50 stocks\n",
    "Stock_data"
   ]
  },
  {
   "cell_type": "code",
   "execution_count": null,
   "id": "4d4bf551",
   "metadata": {},
   "outputs": [],
   "source": []
  }
 ],
 "metadata": {
  "kernelspec": {
   "display_name": "Python 3 (ipykernel)",
   "language": "python",
   "name": "python3"
  },
  "language_info": {
   "codemirror_mode": {
    "name": "ipython",
    "version": 3
   },
   "file_extension": ".py",
   "mimetype": "text/x-python",
   "name": "python",
   "nbconvert_exporter": "python",
   "pygments_lexer": "ipython3",
   "version": "3.9.12"
  }
 },
 "nbformat": 4,
 "nbformat_minor": 5
}
